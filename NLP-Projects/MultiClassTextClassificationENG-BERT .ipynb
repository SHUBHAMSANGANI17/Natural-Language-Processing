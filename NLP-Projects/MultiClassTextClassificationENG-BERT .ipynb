{
 "cells": [
  {
   "cell_type": "markdown",
   "id": "a505c623",
   "metadata": {
    "id": "y8AG0fnlfNUT",
    "papermill": {
     "duration": 0.025899,
     "end_time": "2022-02-09T16:55:40.326861",
     "exception": false,
     "start_time": "2022-02-09T16:55:40.300962",
     "status": "completed"
    },
    "tags": []
   },
   "source": [
    "# SENTIMENT ANALYSIS\n",
    "\n",
    "* Our aim in this study is to calculate and present the percentage of positive or negative when a long text is loaded.\n",
    "- Here we will proceed using the BERT Algorithm.\n",
    "- To get information about Bert. [https://towardsdatascience.com/bert-explained-state-of-the-art-language-model-for-nlp-f8b21a9b6270]"
   ]
  },
  {
   "cell_type": "code",
   "execution_count": null,
   "id": "e00469a2",
   "metadata": {
    "_cell_guid": "b1076dfc-b9ad-4769-8c92-a6c4dae69d19",
    "_uuid": "8f2839f25d086af736a60e9eeb907d3b93b6e0e5",
    "execution": {
     "iopub.execute_input": "2022-02-09T16:55:40.391761Z",
     "iopub.status.busy": "2022-02-09T16:55:40.383084Z",
     "iopub.status.idle": "2022-02-09T16:55:57.161036Z",
     "shell.execute_reply": "2022-02-09T16:55:57.160484Z",
     "shell.execute_reply.started": "2022-02-09T12:44:31.878601Z"
    },
    "id": "lAI3xmNueLaK",
    "outputId": "eb1f784c-0b17-40c0-ed74-50458502f2ad",
    "papermill": {
     "duration": 16.808286,
     "end_time": "2022-02-09T16:55:57.161183",
     "exception": false,
     "start_time": "2022-02-09T16:55:40.352897",
     "status": "completed"
    },
    "tags": []
   },
   "outputs": [],
   "source": [
    "!pip install transformers\n",
    "import pandas as pd\n",
    "import numpy as np\n",
    "from tqdm.auto import tqdm\n",
    "import tensorflow as tf\n",
    "from transformers import BertTokenizer\n",
    "from transformers import TFBertModel\n",
    "from nltk.tokenize import sent_tokenize, word_tokenize\n",
    "import nltk\n",
    "nltk.download('punkt')"
   ]
  },
  {
   "cell_type": "code",
   "execution_count": 2,
   "id": "f32ab2ea",
   "metadata": {
    "execution": {
     "iopub.execute_input": "2022-02-09T16:55:57.222459Z",
     "iopub.status.busy": "2022-02-09T16:55:57.221962Z",
     "iopub.status.idle": "2022-02-09T16:55:57.510253Z",
     "shell.execute_reply": "2022-02-09T16:55:57.509480Z",
     "shell.execute_reply.started": "2022-02-09T12:44:41.771856Z"
    },
    "id": "BYJKq3vseLaL",
    "outputId": "f4cf981a-c085-422c-b471-9f5c27fb4772",
    "papermill": {
     "duration": 0.320386,
     "end_time": "2022-02-09T16:55:57.510462",
     "exception": false,
     "start_time": "2022-02-09T16:55:57.190076",
     "status": "completed"
    },
    "tags": []
   },
   "outputs": [
    {
     "data": {
      "text/html": [
       "<div>\n",
       "<style scoped>\n",
       "    .dataframe tbody tr th:only-of-type {\n",
       "        vertical-align: middle;\n",
       "    }\n",
       "\n",
       "    .dataframe tbody tr th {\n",
       "        vertical-align: top;\n",
       "    }\n",
       "\n",
       "    .dataframe thead th {\n",
       "        text-align: right;\n",
       "    }\n",
       "</style>\n",
       "<table border=\"1\" class=\"dataframe\">\n",
       "  <thead>\n",
       "    <tr style=\"text-align: right;\">\n",
       "      <th></th>\n",
       "      <th>PhraseId</th>\n",
       "      <th>SentenceId</th>\n",
       "      <th>Phrase</th>\n",
       "      <th>Sentiment</th>\n",
       "    </tr>\n",
       "  </thead>\n",
       "  <tbody>\n",
       "    <tr>\n",
       "      <th>0</th>\n",
       "      <td>1</td>\n",
       "      <td>1</td>\n",
       "      <td>A series of escapades demonstrating the adage ...</td>\n",
       "      <td>1</td>\n",
       "    </tr>\n",
       "    <tr>\n",
       "      <th>1</th>\n",
       "      <td>2</td>\n",
       "      <td>1</td>\n",
       "      <td>A series of escapades demonstrating the adage ...</td>\n",
       "      <td>2</td>\n",
       "    </tr>\n",
       "    <tr>\n",
       "      <th>2</th>\n",
       "      <td>3</td>\n",
       "      <td>1</td>\n",
       "      <td>A series</td>\n",
       "      <td>2</td>\n",
       "    </tr>\n",
       "    <tr>\n",
       "      <th>3</th>\n",
       "      <td>4</td>\n",
       "      <td>1</td>\n",
       "      <td>A</td>\n",
       "      <td>2</td>\n",
       "    </tr>\n",
       "    <tr>\n",
       "      <th>4</th>\n",
       "      <td>5</td>\n",
       "      <td>1</td>\n",
       "      <td>series</td>\n",
       "      <td>2</td>\n",
       "    </tr>\n",
       "  </tbody>\n",
       "</table>\n",
       "</div>"
      ],
      "text/plain": [
       "   PhraseId  SentenceId                                             Phrase  \\\n",
       "0         1           1  A series of escapades demonstrating the adage ...   \n",
       "1         2           1  A series of escapades demonstrating the adage ...   \n",
       "2         3           1                                           A series   \n",
       "3         4           1                                                  A   \n",
       "4         5           1                                             series   \n",
       "\n",
       "   Sentiment  \n",
       "0          1  \n",
       "1          2  \n",
       "2          2  \n",
       "3          2  \n",
       "4          2  "
      ]
     },
     "execution_count": 2,
     "metadata": {},
     "output_type": "execute_result"
    }
   ],
   "source": [
    "df = pd.read_csv(\"../input/sentiment/train.tsv\", sep='\\t')\n",
    "df.head()                                                   # Phrase: Phrases from the movies"
   ]
  },
  {
   "cell_type": "code",
   "execution_count": 3,
   "id": "4aa4f60f",
   "metadata": {
    "execution": {
     "iopub.execute_input": "2022-02-09T16:55:57.622729Z",
     "iopub.status.busy": "2022-02-09T16:55:57.621875Z",
     "iopub.status.idle": "2022-02-09T16:55:57.633274Z",
     "shell.execute_reply": "2022-02-09T16:55:57.632607Z",
     "shell.execute_reply.started": "2022-02-09T12:44:42.079953Z"
    },
    "id": "krWr_40CeLaM",
    "outputId": "d4991753-0553-4268-e1ee-21bc061ac289",
    "papermill": {
     "duration": 0.066136,
     "end_time": "2022-02-09T16:55:57.633449",
     "exception": false,
     "start_time": "2022-02-09T16:55:57.567313",
     "status": "completed"
    },
    "tags": []
   },
   "outputs": [
    {
     "data": {
      "text/plain": [
       "'\\nThe sentiment labels are:\\n\\n0 - negative\\n1 - somewhat negative                                       \\n2 - neutral                               \\n3 - somewhat positive\\n4 - positive\\n'"
      ]
     },
     "execution_count": 3,
     "metadata": {},
     "output_type": "execute_result"
    }
   ],
   "source": [
    "df['Sentiment'].value_counts()       # Meanings of the labels \n",
    "\n",
    "'''\n",
    "The sentiment labels are:\n",
    "\n",
    "0 - negative\n",
    "1 - somewhat negative                                       \n",
    "2 - neutral                               \n",
    "3 - somewhat positive\n",
    "4 - positive\n",
    "'''"
   ]
  },
  {
   "cell_type": "code",
   "execution_count": null,
   "id": "d36f0a16",
   "metadata": {
    "execution": {
     "iopub.execute_input": "2022-02-09T16:55:57.752972Z",
     "iopub.status.busy": "2022-02-09T16:55:57.752093Z",
     "iopub.status.idle": "2022-02-09T16:56:10.369308Z",
     "shell.execute_reply": "2022-02-09T16:56:10.368872Z",
     "shell.execute_reply.started": "2022-02-09T12:44:42.102116Z"
    },
    "id": "jJTu5aDYeLaM",
    "outputId": "80954947-f3e0-4868-8cd2-2871a6cb4d56",
    "papermill": {
     "duration": 12.681826,
     "end_time": "2022-02-09T16:56:10.369444",
     "exception": false,
     "start_time": "2022-02-09T16:55:57.687618",
     "status": "completed"
    },
    "tags": []
   },
   "outputs": [],
   "source": [
    "tokenizer = BertTokenizer.from_pretrained('bert-base-cased')      "
   ]
  },
  {
   "cell_type": "markdown",
   "id": "4a40e628",
   "metadata": {
    "id": "5Jp6zqdDeLaN",
    "papermill": {
     "duration": 0.029978,
     "end_time": "2022-02-09T16:56:10.430583",
     "exception": false,
     "start_time": "2022-02-09T16:56:10.400605",
     "status": "completed"
    },
    "tags": []
   },
   "source": [
    "- Masked language modeling (MLM): By taking a sentence, the model randomly masks 15% of the words in the input, then runs the entire masked sentence through the model and has to guess the masked words. This differs from traditional recurrent neural networks (RNNs), which often see words one after another, or autoregressive models like GPT, which internally mask future markers.\n",
    "- For more information [https://huggingface.co/docs/transformers/model_doc/bert]"
   ]
  },
  {
   "cell_type": "code",
   "execution_count": 5,
   "id": "de3c2720",
   "metadata": {
    "execution": {
     "iopub.execute_input": "2022-02-09T16:56:15.126332Z",
     "iopub.status.busy": "2022-02-09T16:56:15.125385Z",
     "iopub.status.idle": "2022-02-09T16:56:15.414625Z",
     "shell.execute_reply": "2022-02-09T16:56:15.415102Z",
     "shell.execute_reply.started": "2022-02-09T12:44:45.263905Z"
    },
    "id": "0B2N8NR3eLaO",
    "papermill": {
     "duration": 4.951893,
     "end_time": "2022-02-09T16:56:15.415263",
     "exception": false,
     "start_time": "2022-02-09T16:56:10.463370",
     "status": "completed"
    },
    "tags": []
   },
   "outputs": [
    {
     "name": "stderr",
     "output_type": "stream",
     "text": [
      "2022-02-09 16:56:10.555059: I tensorflow/stream_executor/cuda/cuda_gpu_executor.cc:937] successful NUMA node read from SysFS had negative value (-1), but there must be at least one NUMA node, so returning NUMA node zero\n",
      "2022-02-09 16:56:10.556080: I tensorflow/stream_executor/cuda/cuda_gpu_executor.cc:937] successful NUMA node read from SysFS had negative value (-1), but there must be at least one NUMA node, so returning NUMA node zero\n",
      "2022-02-09 16:56:10.556810: I tensorflow/stream_executor/cuda/cuda_gpu_executor.cc:937] successful NUMA node read from SysFS had negative value (-1), but there must be at least one NUMA node, so returning NUMA node zero\n",
      "2022-02-09 16:56:10.559267: I tensorflow/core/platform/cpu_feature_guard.cc:142] This TensorFlow binary is optimized with oneAPI Deep Neural Network Library (oneDNN) to use the following CPU instructions in performance-critical operations:  AVX2 AVX512F FMA\n",
      "To enable them in other operations, rebuild TensorFlow with the appropriate compiler flags.\n",
      "2022-02-09 16:56:10.560207: I tensorflow/stream_executor/cuda/cuda_gpu_executor.cc:937] successful NUMA node read from SysFS had negative value (-1), but there must be at least one NUMA node, so returning NUMA node zero\n",
      "2022-02-09 16:56:10.560883: I tensorflow/stream_executor/cuda/cuda_gpu_executor.cc:937] successful NUMA node read from SysFS had negative value (-1), but there must be at least one NUMA node, so returning NUMA node zero\n",
      "2022-02-09 16:56:10.561481: I tensorflow/stream_executor/cuda/cuda_gpu_executor.cc:937] successful NUMA node read from SysFS had negative value (-1), but there must be at least one NUMA node, so returning NUMA node zero\n",
      "2022-02-09 16:56:15.115745: I tensorflow/stream_executor/cuda/cuda_gpu_executor.cc:937] successful NUMA node read from SysFS had negative value (-1), but there must be at least one NUMA node, so returning NUMA node zero\n",
      "2022-02-09 16:56:15.116567: I tensorflow/stream_executor/cuda/cuda_gpu_executor.cc:937] successful NUMA node read from SysFS had negative value (-1), but there must be at least one NUMA node, so returning NUMA node zero\n",
      "2022-02-09 16:56:15.117230: I tensorflow/stream_executor/cuda/cuda_gpu_executor.cc:937] successful NUMA node read from SysFS had negative value (-1), but there must be at least one NUMA node, so returning NUMA node zero\n",
      "2022-02-09 16:56:15.117811: I tensorflow/core/common_runtime/gpu/gpu_device.cc:1510] Created device /job:localhost/replica:0/task:0/device:GPU:0 with 14959 MB memory:  -> device: 0, name: Tesla P100-PCIE-16GB, pci bus id: 0000:00:04.0, compute capability: 6.0\n"
     ]
    }
   ],
   "source": [
    "# Here BERT Tokenizer Words can either be converted to full formats (for example, a word becomes a symbol)\n",
    "# or it works by splitting a word into parts of words where it can be split into multiple symbols.\n",
    "token = tokenizer.encode_plus(\n",
    "    df['Phrase'].iloc[0], \n",
    "    max_length=256, \n",
    "    truncation=True, \n",
    "    padding='max_length', \n",
    "    add_special_tokens=True,\n",
    "    return_tensors='tf'\n",
    ")\n"
   ]
  },
  {
   "cell_type": "code",
   "execution_count": 6,
   "id": "91ed6b17",
   "metadata": {
    "execution": {
     "iopub.execute_input": "2022-02-09T16:56:15.484724Z",
     "iopub.status.busy": "2022-02-09T16:56:15.483921Z",
     "iopub.status.idle": "2022-02-09T16:56:15.487492Z",
     "shell.execute_reply": "2022-02-09T16:56:15.486789Z",
     "shell.execute_reply.started": "2022-02-09T12:44:45.275212Z"
    },
    "id": "TnzFOhBceLaO",
    "outputId": "6698f5b5-a01f-4b55-f1d4-3d0b204dbb98",
    "papermill": {
     "duration": 0.040849,
     "end_time": "2022-02-09T16:56:15.487651",
     "exception": false,
     "start_time": "2022-02-09T16:56:15.446802",
     "status": "completed"
    },
    "tags": []
   },
   "outputs": [
    {
     "name": "stdout",
     "output_type": "stream",
     "text": [
      "(156060, 256)\n",
      "(156060, 256)\n"
     ]
    }
   ],
   "source": [
    "X_input_ids = np.zeros((len(df), 256))  #Input Sentences \n",
    "X_attn_masks = np.zeros((len(df), 256)) # Masked sentences \n",
    "print(X_input_ids.shape)\n",
    "print(X_attn_masks.shape)"
   ]
  },
  {
   "cell_type": "code",
   "execution_count": 7,
   "id": "d985b059",
   "metadata": {
    "execution": {
     "iopub.execute_input": "2022-02-09T16:56:15.556739Z",
     "iopub.status.busy": "2022-02-09T16:56:15.556085Z",
     "iopub.status.idle": "2022-02-09T16:56:15.558671Z",
     "shell.execute_reply": "2022-02-09T16:56:15.559063Z",
     "shell.execute_reply.started": "2022-02-09T12:44:45.293190Z"
    },
    "id": "1vYf2QCueLaP",
    "papermill": {
     "duration": 0.039133,
     "end_time": "2022-02-09T16:56:15.559188",
     "exception": false,
     "start_time": "2022-02-09T16:56:15.520055",
     "status": "completed"
    },
    "tags": []
   },
   "outputs": [],
   "source": [
    "def generate_training_data(df, ids, masks, tokenizer):\n",
    "    for i, text in tqdm(enumerate(df['Phrase'])):\n",
    "        tokenized_text = tokenizer.encode_plus(\n",
    "            text,\n",
    "            max_length=256, \n",
    "            truncation=True, \n",
    "            padding='max_length',                           # Here we set up the function and process it into the data\n",
    "            add_special_tokens=True,\n",
    "            return_tensors='tf'\n",
    "        )\n",
    "        ids[i, :] = tokenized_text.input_ids\n",
    "        masks[i, :] = tokenized_text.attention_mask\n",
    "    return ids, masks"
   ]
  },
  {
   "cell_type": "markdown",
   "id": "8b5aa12a",
   "metadata": {
    "id": "4hspsQHveLaP",
    "papermill": {
     "duration": 0.031113,
     "end_time": "2022-02-09T16:56:15.621349",
     "exception": false,
     "start_time": "2022-02-09T16:56:15.590236",
     "status": "completed"
    },
    "tags": []
   },
   "source": [
    "- In addition to its low overhead, tqdm uses smart algorithms to estimate remaining time and skip redundant iteration images, resulting in negligible overhead in most cases.\n",
    "- For more info [https://tqdm.github.io/]"
   ]
  },
  {
   "cell_type": "code",
   "execution_count": null,
   "id": "7d2d90b4",
   "metadata": {
    "execution": {
     "iopub.execute_input": "2022-02-09T16:56:15.709858Z",
     "iopub.status.busy": "2022-02-09T16:56:15.708889Z",
     "iopub.status.idle": "2022-02-09T16:57:25.892482Z",
     "shell.execute_reply": "2022-02-09T16:57:25.892026Z",
     "shell.execute_reply.started": "2022-02-09T12:44:45.305440Z"
    },
    "id": "GyDbi6fJeLaQ",
    "outputId": "db91d621-fd87-4168-c53d-613a9171b0e9",
    "papermill": {
     "duration": 70.240394,
     "end_time": "2022-02-09T16:57:25.892632",
     "exception": false,
     "start_time": "2022-02-09T16:56:15.652238",
     "status": "completed"
    },
    "tags": []
   },
   "outputs": [],
   "source": [
    "X_input_ids, X_attn_masks = generate_training_data(df, X_input_ids, X_attn_masks, tokenizer)\n",
    "labels = np.zeros((len(df), 5))\n",
    "labels.shape"
   ]
  },
  {
   "cell_type": "code",
   "execution_count": 9,
   "id": "aae92b1a",
   "metadata": {
    "execution": {
     "iopub.execute_input": "2022-02-09T16:57:25.961166Z",
     "iopub.status.busy": "2022-02-09T16:57:25.960311Z",
     "iopub.status.idle": "2022-02-09T16:57:25.969334Z",
     "shell.execute_reply": "2022-02-09T16:57:25.968910Z",
     "shell.execute_reply.started": "2022-02-09T12:46:21.911519Z"
    },
    "id": "-tD50YUheLaQ",
    "outputId": "92601ef4-66b2-4f8a-81df-c710b5f74b62",
    "papermill": {
     "duration": 0.04459,
     "end_time": "2022-02-09T16:57:25.969453",
     "exception": false,
     "start_time": "2022-02-09T16:57:25.924863",
     "status": "completed"
    },
    "tags": []
   },
   "outputs": [
    {
     "data": {
      "text/plain": [
       "array([[0., 1., 0., 0., 0.],\n",
       "       [0., 0., 1., 0., 0.],\n",
       "       [0., 0., 1., 0., 0.],\n",
       "       ...,\n",
       "       [0., 0., 0., 1., 0.],\n",
       "       [0., 0., 1., 0., 0.],\n",
       "       [0., 0., 1., 0., 0.]])"
      ]
     },
     "execution_count": 9,
     "metadata": {},
     "output_type": "execute_result"
    }
   ],
   "source": [
    "labels[np.arange(len(df)), df['Sentiment'].values] = 1\n",
    "labels"
   ]
  },
  {
   "cell_type": "code",
   "execution_count": 10,
   "id": "ce35186e",
   "metadata": {
    "execution": {
     "iopub.execute_input": "2022-02-09T16:57:26.675473Z",
     "iopub.status.busy": "2022-02-09T16:57:26.668197Z",
     "iopub.status.idle": "2022-02-09T16:57:27.152919Z",
     "shell.execute_reply": "2022-02-09T16:57:27.153616Z",
     "shell.execute_reply.started": "2022-02-09T12:46:21.929899Z"
    },
    "id": "uMGvjR6qeLaR",
    "outputId": "6eac0f02-d372-471d-d223-1e7d9fdb7803",
    "papermill": {
     "duration": 1.15218,
     "end_time": "2022-02-09T16:57:27.153773",
     "exception": false,
     "start_time": "2022-02-09T16:57:26.001593",
     "status": "completed"
    },
    "tags": []
   },
   "outputs": [
    {
     "data": {
      "text/plain": [
       "<TensorSliceDataset shapes: ((256,), (256,), (5,)), types: (tf.float64, tf.float64, tf.float64)>"
      ]
     },
     "execution_count": 10,
     "metadata": {},
     "output_type": "execute_result"
    }
   ],
   "source": [
    "#reating a data pipeline using the tensorflow dataset utility creates data stacks for easy loading.\n",
    "dataset = tf.data.Dataset.from_tensor_slices((X_input_ids, X_attn_masks, labels))\n",
    "dataset.take(1) # one sample data\n",
    "dataset"
   ]
  },
  {
   "cell_type": "code",
   "execution_count": 11,
   "id": "38707f65",
   "metadata": {
    "execution": {
     "iopub.execute_input": "2022-02-09T16:57:27.224542Z",
     "iopub.status.busy": "2022-02-09T16:57:27.223791Z",
     "iopub.status.idle": "2022-02-09T16:57:27.226246Z",
     "shell.execute_reply": "2022-02-09T16:57:27.225827Z",
     "shell.execute_reply.started": "2022-02-09T12:46:23.063101Z"
    },
    "id": "ClR9L_xieLaR",
    "papermill": {
     "duration": 0.039707,
     "end_time": "2022-02-09T16:57:27.226360",
     "exception": false,
     "start_time": "2022-02-09T16:57:27.186653",
     "status": "completed"
    },
    "tags": []
   },
   "outputs": [],
   "source": [
    "def SentimentDatasetMapFunction(input_ids, attn_masks, labels):\n",
    "    return {\n",
    "        'input_ids': input_ids,\n",
    "        'attention_mask': attn_masks\n",
    "    }, labels"
   ]
  },
  {
   "cell_type": "code",
   "execution_count": 12,
   "id": "785f58ab",
   "metadata": {
    "execution": {
     "iopub.execute_input": "2022-02-09T16:57:27.296644Z",
     "iopub.status.busy": "2022-02-09T16:57:27.296101Z",
     "iopub.status.idle": "2022-02-09T16:57:27.359577Z",
     "shell.execute_reply": "2022-02-09T16:57:27.359006Z",
     "shell.execute_reply.started": "2022-02-09T12:46:23.073006Z"
    },
    "id": "tE0iN_j4eLaS",
    "papermill": {
     "duration": 0.101232,
     "end_time": "2022-02-09T16:57:27.359695",
     "exception": false,
     "start_time": "2022-02-09T16:57:27.258463",
     "status": "completed"
    },
    "tags": []
   },
   "outputs": [],
   "source": [
    "dataset = dataset.map(SentimentDatasetMapFunction) # Convert to required format for tensorflow dataset\n",
    "dataset = dataset.shuffle(10000).batch(16, drop_remainder=True) # batch size setting\n",
    "#If you are going to use your own computer's GPU here, you need to batch size it accordingly.\n",
    "#30 hours per week in Kaggle and daily GPU usage rights in Colab."
   ]
  },
  {
   "cell_type": "code",
   "execution_count": 13,
   "id": "26e39de6",
   "metadata": {
    "execution": {
     "iopub.execute_input": "2022-02-09T16:57:27.428749Z",
     "iopub.status.busy": "2022-02-09T16:57:27.427966Z",
     "iopub.status.idle": "2022-02-09T16:57:27.429980Z",
     "shell.execute_reply": "2022-02-09T16:57:27.430354Z",
     "shell.execute_reply.started": "2022-02-09T12:46:23.171867Z"
    },
    "id": "fJ1IBdtpeLaS",
    "papermill": {
     "duration": 0.038278,
     "end_time": "2022-02-09T16:57:27.430482",
     "exception": false,
     "start_time": "2022-02-09T16:57:27.392204",
     "status": "completed"
    },
    "tags": []
   },
   "outputs": [],
   "source": [
    "p = 0.8\n",
    "train_size = int((len(df)//16)*p) \n",
    "# We will have len(df)//16 samples for each 16 batches of data, 80% of which is taken for the train"
   ]
  },
  {
   "cell_type": "code",
   "execution_count": 14,
   "id": "e97e1001",
   "metadata": {
    "execution": {
     "iopub.execute_input": "2022-02-09T16:57:27.499276Z",
     "iopub.status.busy": "2022-02-09T16:57:27.498577Z",
     "iopub.status.idle": "2022-02-09T16:57:27.501187Z",
     "shell.execute_reply": "2022-02-09T16:57:27.501608Z",
     "shell.execute_reply.started": "2022-02-09T12:46:23.180671Z"
    },
    "id": "U-1h6xi8eLaS",
    "outputId": "a48c28c3-fc48-46c0-b771-04ffc5bce4da",
    "papermill": {
     "duration": 0.039014,
     "end_time": "2022-02-09T16:57:27.501732",
     "exception": false,
     "start_time": "2022-02-09T16:57:27.462718",
     "status": "completed"
    },
    "tags": []
   },
   "outputs": [
    {
     "data": {
      "text/plain": [
       "7802"
      ]
     },
     "execution_count": 14,
     "metadata": {},
     "output_type": "execute_result"
    }
   ],
   "source": [
    "train_size"
   ]
  },
  {
   "cell_type": "code",
   "execution_count": 15,
   "id": "ad59d45b",
   "metadata": {
    "execution": {
     "iopub.execute_input": "2022-02-09T16:57:27.570285Z",
     "iopub.status.busy": "2022-02-09T16:57:27.568457Z",
     "iopub.status.idle": "2022-02-09T16:57:27.573186Z",
     "shell.execute_reply": "2022-02-09T16:57:27.573632Z",
     "shell.execute_reply.started": "2022-02-09T12:46:23.195242Z"
    },
    "id": "6Z_jeB-keLaS",
    "papermill": {
     "duration": 0.039937,
     "end_time": "2022-02-09T16:57:27.573757",
     "exception": false,
     "start_time": "2022-02-09T16:57:27.533820",
     "status": "completed"
    },
    "tags": []
   },
   "outputs": [],
   "source": [
    "train_dataset = dataset.take(train_size)\n",
    "val_dataset = dataset.skip(train_size)"
   ]
  },
  {
   "cell_type": "code",
   "execution_count": null,
   "id": "1f530213",
   "metadata": {
    "execution": {
     "iopub.execute_input": "2022-02-09T16:57:27.645332Z",
     "iopub.status.busy": "2022-02-09T16:57:27.644822Z",
     "iopub.status.idle": "2022-02-09T16:58:04.190906Z",
     "shell.execute_reply": "2022-02-09T16:58:04.191496Z",
     "shell.execute_reply.started": "2022-02-09T12:46:23.207223Z"
    },
    "id": "NMzHyVceeLaT",
    "outputId": "3dd82478-14ce-4a01-8db8-e44d80a53747",
    "papermill": {
     "duration": 36.585843,
     "end_time": "2022-02-09T16:58:04.191708",
     "exception": false,
     "start_time": "2022-02-09T16:57:27.605865",
     "status": "completed"
    },
    "tags": []
   },
   "outputs": [],
   "source": [
    "model = TFBertModel.from_pretrained('bert-base-cased') #pre-trained bert base model"
   ]
  },
  {
   "cell_type": "code",
   "execution_count": 17,
   "id": "7bbc5f90",
   "metadata": {
    "execution": {
     "iopub.execute_input": "2022-02-09T16:58:04.262265Z",
     "iopub.status.busy": "2022-02-09T16:58:04.261484Z",
     "iopub.status.idle": "2022-02-09T16:58:10.847485Z",
     "shell.execute_reply": "2022-02-09T16:58:10.848213Z",
     "shell.execute_reply.started": "2022-02-09T12:46:27.701992Z"
    },
    "id": "2D6wqlX3eLaT",
    "outputId": "10a41512-23f4-4b17-c5e5-8f7ff720b5da",
    "papermill": {
     "duration": 6.622337,
     "end_time": "2022-02-09T16:58:10.848377",
     "exception": false,
     "start_time": "2022-02-09T16:58:04.226040",
     "status": "completed"
    },
    "tags": []
   },
   "outputs": [
    {
     "name": "stdout",
     "output_type": "stream",
     "text": [
      "Model: \"model\"\n",
      "__________________________________________________________________________________________________\n",
      "Layer (type)                    Output Shape         Param #     Connected to                     \n",
      "==================================================================================================\n",
      "input_ids (InputLayer)          [(None, 256)]        0                                            \n",
      "__________________________________________________________________________________________________\n",
      "attention_mask (InputLayer)     [(None, 256)]        0                                            \n",
      "__________________________________________________________________________________________________\n",
      "bert (TFBertMainLayer)          TFBaseModelOutputWit 108310272   input_ids[0][0]                  \n",
      "                                                                 attention_mask[0][0]             \n",
      "__________________________________________________________________________________________________\n",
      "intermediate_layer (Dense)      (None, 512)          393728      bert[0][1]                       \n",
      "__________________________________________________________________________________________________\n",
      "output_layer (Dense)            (None, 5)            2565        intermediate_layer[0][0]         \n",
      "==================================================================================================\n",
      "Total params: 108,706,565\n",
      "Trainable params: 108,706,565\n",
      "Non-trainable params: 0\n",
      "__________________________________________________________________________________________________\n"
     ]
    }
   ],
   "source": [
    "# Define 2 input layers for input_ids and attn_masks\n",
    "input_ids = tf.keras.layers.Input(shape=(256,), name='input_ids', dtype='int32')\n",
    "attn_masks = tf.keras.layers.Input(shape=(256,), name='attention_mask', dtype='int32')\n",
    "\n",
    "bert_embds = model.bert(input_ids, attention_mask=attn_masks)[1] # 0 ->activation layer (3D), 1 -> pooled output layer (2D)\n",
    "intermediate_layer = tf.keras.layers.Dense(512, activation='relu', name='intermediate_layer')(bert_embds)\n",
    "output_layer = tf.keras.layers.Dense(5, activation='softmax', name='output_layer')(intermediate_layer) \n",
    "\n",
    "sentiment_model = tf.keras.Model(inputs=[input_ids, attn_masks], outputs=output_layer)\n",
    "sentiment_model.summary()"
   ]
  },
  {
   "cell_type": "code",
   "execution_count": 18,
   "id": "0a58a546",
   "metadata": {
    "execution": {
     "iopub.execute_input": "2022-02-09T16:58:10.923880Z",
     "iopub.status.busy": "2022-02-09T16:58:10.923051Z",
     "iopub.status.idle": "2022-02-09T16:58:10.927632Z",
     "shell.execute_reply": "2022-02-09T16:58:10.927194Z",
     "shell.execute_reply.started": "2022-02-09T12:46:35.486710Z"
    },
    "id": "ABSqiW0geLaT",
    "papermill": {
     "duration": 0.044499,
     "end_time": "2022-02-09T16:58:10.927751",
     "exception": false,
     "start_time": "2022-02-09T16:58:10.883252",
     "status": "completed"
    },
    "tags": []
   },
   "outputs": [],
   "source": [
    "optim = tf.keras.optimizers.Adam(learning_rate=1e-5, decay=1e-6)\n",
    "loss_func = tf.keras.losses.CategoricalCrossentropy()\n",
    "acc = tf.keras.metrics.CategoricalAccuracy('accuracy')"
   ]
  },
  {
   "cell_type": "code",
   "execution_count": 19,
   "id": "56afb79a",
   "metadata": {
    "execution": {
     "iopub.execute_input": "2022-02-09T16:58:11.005590Z",
     "iopub.status.busy": "2022-02-09T16:58:11.005048Z",
     "iopub.status.idle": "2022-02-09T16:58:11.012330Z",
     "shell.execute_reply": "2022-02-09T16:58:11.011929Z",
     "shell.execute_reply.started": "2022-02-09T12:46:35.499807Z"
    },
    "id": "8H8YsrEZeLaU",
    "papermill": {
     "duration": 0.051069,
     "end_time": "2022-02-09T16:58:11.012439",
     "exception": false,
     "start_time": "2022-02-09T16:58:10.961370",
     "status": "completed"
    },
    "tags": []
   },
   "outputs": [],
   "source": [
    "sentiment_model.compile(optimizer=optim, loss=loss_func, metrics=[acc])"
   ]
  },
  {
   "cell_type": "code",
   "execution_count": 20,
   "id": "020b34cf",
   "metadata": {
    "execution": {
     "iopub.execute_input": "2022-02-09T16:58:11.086705Z",
     "iopub.status.busy": "2022-02-09T16:58:11.085985Z",
     "iopub.status.idle": "2022-02-09T19:14:53.323721Z",
     "shell.execute_reply": "2022-02-09T19:14:53.324390Z",
     "shell.execute_reply.started": "2022-02-09T12:46:35.526228Z"
    },
    "id": "xa9RGf7TeLaU",
    "outputId": "4d67b89d-a5c8-4e3d-b139-efb52dcff7e7",
    "papermill": {
     "duration": 8202.278307,
     "end_time": "2022-02-09T19:14:53.324613",
     "exception": false,
     "start_time": "2022-02-09T16:58:11.046306",
     "status": "completed"
    },
    "tags": []
   },
   "outputs": [
    {
     "name": "stdout",
     "output_type": "stream",
     "text": [
      "Epoch 1/2\n"
     ]
    },
    {
     "name": "stderr",
     "output_type": "stream",
     "text": [
      "2022-02-09 16:58:18.298350: I tensorflow/compiler/mlir/mlir_graph_optimization_pass.cc:185] None of the MLIR Optimization Passes are enabled (registered 2)\n"
     ]
    },
    {
     "name": "stdout",
     "output_type": "stream",
     "text": [
      "7802/7802 [==============================] - 4099s 524ms/step - loss: 0.7866 - accuracy: 0.6723 - val_loss: 0.7733 - val_accuracy: 0.6777\n",
      "Epoch 2/2\n",
      "7802/7802 [==============================] - 4087s 524ms/step - loss: 0.6694 - accuracy: 0.7203 - val_loss: 0.7423 - val_accuracy: 0.6866\n"
     ]
    }
   ],
   "source": [
    "hist = sentiment_model.fit(\n",
    "    train_dataset,\n",
    "    validation_data=val_dataset,\n",
    "    epochs=2)"
   ]
  },
  {
   "cell_type": "code",
   "execution_count": 21,
   "id": "3d1909f8",
   "metadata": {
    "execution": {
     "iopub.execute_input": "2022-02-09T19:15:02.160111Z",
     "iopub.status.busy": "2022-02-09T19:15:02.159144Z",
     "iopub.status.idle": "2022-02-09T19:15:32.540119Z",
     "shell.execute_reply": "2022-02-09T19:15:32.540668Z",
     "shell.execute_reply.started": "2022-02-09T15:05:31.745123Z"
    },
    "id": "3ACpKPXoeLaU",
    "outputId": "ba568c69-d27e-4721-df38-c8cc7388135b",
    "papermill": {
     "duration": 34.933952,
     "end_time": "2022-02-09T19:15:32.540889",
     "exception": false,
     "start_time": "2022-02-09T19:14:57.606937",
     "status": "completed"
    },
    "tags": []
   },
   "outputs": [
    {
     "name": "stderr",
     "output_type": "stream",
     "text": [
      "2022-02-09 19:15:09.325808: W tensorflow/python/util/util.cc:348] Sets are not currently considered sequences, but this may change in the future, so consider avoiding using them.\n",
      "/opt/conda/lib/python3.7/site-packages/keras/utils/generic_utils.py:497: CustomMaskWarning: Custom mask layers require a config and must override get_config. When loading, the custom mask layer must be passed to the custom_objects argument.\n",
      "  category=CustomMaskWarning)\n"
     ]
    }
   ],
   "source": [
    "sentiment_model.save('sentiment_model')"
   ]
  },
  {
   "cell_type": "code",
   "execution_count": 22,
   "id": "47eeb451",
   "metadata": {
    "execution": {
     "iopub.execute_input": "2022-02-09T19:15:41.564585Z",
     "iopub.status.busy": "2022-02-09T19:15:41.563758Z",
     "iopub.status.idle": "2022-02-09T19:15:59.844560Z",
     "shell.execute_reply": "2022-02-09T19:15:59.845974Z",
     "shell.execute_reply.started": "2022-02-09T16:27:31.135745Z"
    },
    "id": "50xxyFAoeLaV",
    "papermill": {
     "duration": 22.622424,
     "end_time": "2022-02-09T19:15:59.846320",
     "exception": false,
     "start_time": "2022-02-09T19:15:37.223896",
     "status": "completed"
    },
    "tags": []
   },
   "outputs": [],
   "source": [
    "sentiment_model = tf.keras.models.load_model('sentiment_model')\n",
    "\n",
    "tokenizer = BertTokenizer.from_pretrained('bert-base-cased')\n",
    "\n",
    "def prepare_data(input_text, tokenizer):\n",
    "    token = tokenizer.encode_plus(\n",
    "        input_text,\n",
    "        max_length=256, \n",
    "        truncation=True, \n",
    "        padding='max_length', \n",
    "        add_special_tokens=True,\n",
    "        return_tensors='tf'\n",
    "    )\n",
    "    return {\n",
    "        'input_ids': tf.cast(token.input_ids, tf.float64),\n",
    "        'attention_mask': tf.cast(token.attention_mask, tf.float64)\n",
    "    }\n",
    "\n",
    "def make_prediction(model, processed_data, classes=['Negative', 'A bit Negative', 'Neutral', 'A bit positive', 'Positive']):\n",
    "    probs = model.predict(processed_data)[0]\n",
    "    return classes[np.argmax(probs)]"
   ]
  },
  {
   "cell_type": "markdown",
   "id": "19399ae0",
   "metadata": {
    "id": "EfRr7U_FeWUH",
    "papermill": {
     "duration": 4.713634,
     "end_time": "2022-02-09T19:16:08.891887",
     "exception": false,
     "start_time": "2022-02-09T19:16:04.178253",
     "status": "completed"
    },
    "tags": []
   },
   "source": [
    "# SENTIMENT ANALYSIS TEST"
   ]
  },
  {
   "cell_type": "code",
   "execution_count": 23,
   "id": "e7e38906",
   "metadata": {
    "execution": {
     "iopub.execute_input": "2022-02-09T19:16:25.806974Z",
     "iopub.status.busy": "2022-02-09T19:16:25.806139Z",
     "iopub.status.idle": "2022-02-09T19:16:28.574656Z",
     "shell.execute_reply": "2022-02-09T19:16:28.575079Z",
     "shell.execute_reply.started": "2022-02-09T16:46:10.114436Z"
    },
    "id": "306aUU4WeLaV",
    "outputId": "8563b9cc-3b8e-41ac-e594-cffca37940f9",
    "papermill": {
     "duration": 7.155275,
     "end_time": "2022-02-09T19:16:28.575226",
     "exception": false,
     "start_time": "2022-02-09T19:16:21.419951",
     "status": "completed"
    },
    "tags": []
   },
   "outputs": [
    {
     "name": "stdout",
     "output_type": "stream",
     "text": [
      "-Sentence: As we discussed on the phone, I am very pleased to accept the position of Advertising Assistant with Smithfield Granite and Stonework.\n",
      " Predicted Sentiment: A bit positive\n",
      "-Sentence: Thank you again for the opportunity.\n",
      " Predicted Sentiment: A bit positive\n",
      "-Sentence: I am eager to make a positive contribution to the company and to work with everyone on the Smithfield team.\n",
      " Predicted Sentiment: A bit positive\n",
      "-Sentence: As we discussed, my starting salary will be $48,000 and health and life insurance benefits will be provided after 30 days of employment.\n",
      " Predicted Sentiment: Neutral\n",
      "-Sentence: I look forward to starting employment on July 1, 2018.\n",
      " Predicted Sentiment: Neutral\n",
      "-Sentence: If there is any additional information or paperwork you need prior to then, please let me know.\n",
      " Predicted Sentiment: Neutral\n",
      "-Sentence: Again, thank you very much.\n",
      " Predicted Sentiment: A bit positive\n",
      "--------------------------------------------------\n",
      "Negative: % 0.0\n",
      "A bit Negative: % 0.0\n",
      "Neutral: % 42.85714285714286\n",
      "A bit positive %: 57.142857142857146\n",
      "Positive: % 0.0\n"
     ]
    }
   ],
   "source": [
    "raw_text = \"As we discussed on the phone, I am very pleased to accept the position of Advertising Assistant with Smithfield Granite and Stonework. Thank you again for the opportunity. I am eager to make a positive contribution to the company and to work with everyone on the Smithfield team. As we discussed, my starting salary will be $48,000 and health and life insurance benefits will be provided after 30 days of employment. I look forward to starting employment on July 1, 2018. If there is any additional information or paperwork you need prior to then, please let me know. Again, thank you very much.\"\n",
    "\n",
    "text_tokenize = sent_tokenize(raw_text)\n",
    "\n",
    "processed_text= []\n",
    "\n",
    "score ={\"Negative\" : [],\n",
    "       \"A bit Negative\": [],\n",
    "       \"Neutral\": [],\n",
    "       \"A bit positive\": [],\n",
    "        \"Positive\": [] }\n",
    "\n",
    "for i in range(0, len(text_tokenize)):\n",
    "    modeled_text=  prepare_data(text_tokenize[i], tokenizer)\n",
    "    result = make_prediction(sentiment_model, processed_data=modeled_text)\n",
    "    processed_text.append(result)\n",
    "    \n",
    "    print(f\"-Sentence: {text_tokenize[i]}\\n Predicted Sentiment: {processed_text[i]}\")\n",
    "    \n",
    "    if processed_text[i] == \"Negative\":\n",
    "        score[\"Negative\"].append(1)\n",
    "    elif processed_text[i] == \"A bit Negative\":\n",
    "        score[\"A bit Negative\"].append(1)\n",
    "    elif processed_text[i] == \"Neutral\":\n",
    "        score[\"Neutral\"].append(1)\n",
    "    elif processed_text[i] == \"A bit positive\":\n",
    "        score[\"A bit positive\"].append(1)\n",
    "    elif processed_text[i] == \"Positive\":\n",
    "        score[\"Positive\"].append(1)\n",
    "        \n",
    "    percn =(100/((len(score[\"Negative\"] ))+ (len(score[\"A bit Negative\"]))+ ( len(score[\"Neutral\"])) + (len(score[\"A bit positive\"]))+  (len(score[\"Positive\"]))))\n",
    "    \n",
    "    \n",
    "print(50*\"-\")\n",
    "print(\"Negative: %\", len(score[\"Negative\"])*(percn))\n",
    "print(\"A bit Negative: %\", len(score[\"A bit Negative\"])*(percn))\n",
    "print(\"Neutral: %\", len(score[\"Neutral\"])*(percn))\n",
    "print(\"A bit positive %:\", len(score[\"A bit positive\"])*(percn))\n",
    "print(\"Positive: %\", len(score[\"Positive\"])*(percn))\n",
    "   \n",
    "\n",
    "\n"
   ]
  }
 ],
 "metadata": {
  "kernelspec": {
   "display_name": "Python 3 (ipykernel)",
   "language": "python",
   "name": "python3"
  },
  "language_info": {
   "codemirror_mode": {
    "name": "ipython",
    "version": 3
   },
   "file_extension": ".py",
   "mimetype": "text/x-python",
   "name": "python",
   "nbconvert_exporter": "python",
   "pygments_lexer": "ipython3",
   "version": "3.9.7"
  },
  "papermill": {
   "default_parameters": {},
   "duration": 8463.641436,
   "end_time": "2022-02-09T19:16:35.778463",
   "environment_variables": {},
   "exception": null,
   "input_path": "__notebook__.ipynb",
   "output_path": "__notebook__.ipynb",
   "parameters": {},
   "start_time": "2022-02-09T16:55:32.137027",
   "version": "2.3.3"
  },
  "widgets": {
   "application/vnd.jupyter.widget-state+json": {
    "state": {
     "01ae1659b8814115960d2d9a401f7c4c": {
      "model_module": "@jupyter-widgets/controls",
      "model_module_version": "1.5.0",
      "model_name": "HTMLModel",
      "state": {
       "_dom_classes": [],
       "_model_module": "@jupyter-widgets/controls",
       "_model_module_version": "1.5.0",
       "_model_name": "HTMLModel",
       "_view_count": null,
       "_view_module": "@jupyter-widgets/controls",
       "_view_module_version": "1.5.0",
       "_view_name": "HTMLView",
       "description": "",
       "description_tooltip": null,
       "layout": "IPY_MODEL_14f642a8833047d5b69d00b178395ac4",
       "placeholder": "​",
       "style": "IPY_MODEL_48d7b44f999b4fb88615069309914451",
       "value": " 426k/426k [00:00&lt;00:00, 621kB/s]"
      }
     },
     "06610bb3a42d488096f11e8a80dbb669": {
      "model_module": "@jupyter-widgets/controls",
      "model_module_version": "1.5.0",
      "model_name": "HTMLModel",
      "state": {
       "_dom_classes": [],
       "_model_module": "@jupyter-widgets/controls",
       "_model_module_version": "1.5.0",
       "_model_name": "HTMLModel",
       "_view_count": null,
       "_view_module": "@jupyter-widgets/controls",
       "_view_module_version": "1.5.0",
       "_view_name": "HTMLView",
       "description": "",
       "description_tooltip": null,
       "layout": "IPY_MODEL_7171e6e5bf30414a829487d1e50a1280",
       "placeholder": "​",
       "style": "IPY_MODEL_5f293cd560ad4831bbf1128e32df4ccf",
       "value": " 208k/208k [00:00&lt;00:00, 349kB/s]"
      }
     },
     "14f642a8833047d5b69d00b178395ac4": {
      "model_module": "@jupyter-widgets/base",
      "model_module_version": "1.2.0",
      "model_name": "LayoutModel",
      "state": {
       "_model_module": "@jupyter-widgets/base",
       "_model_module_version": "1.2.0",
       "_model_name": "LayoutModel",
       "_view_count": null,
       "_view_module": "@jupyter-widgets/base",
       "_view_module_version": "1.2.0",
       "_view_name": "LayoutView",
       "align_content": null,
       "align_items": null,
       "align_self": null,
       "border": null,
       "bottom": null,
       "display": null,
       "flex": null,
       "flex_flow": null,
       "grid_area": null,
       "grid_auto_columns": null,
       "grid_auto_flow": null,
       "grid_auto_rows": null,
       "grid_column": null,
       "grid_gap": null,
       "grid_row": null,
       "grid_template_areas": null,
       "grid_template_columns": null,
       "grid_template_rows": null,
       "height": null,
       "justify_content": null,
       "justify_items": null,
       "left": null,
       "margin": null,
       "max_height": null,
       "max_width": null,
       "min_height": null,
       "min_width": null,
       "object_fit": null,
       "object_position": null,
       "order": null,
       "overflow": null,
       "overflow_x": null,
       "overflow_y": null,
       "padding": null,
       "right": null,
       "top": null,
       "visibility": null,
       "width": null
      }
     },
     "153819677a354a85a11372c41fb363bd": {
      "model_module": "@jupyter-widgets/controls",
      "model_module_version": "1.5.0",
      "model_name": "HBoxModel",
      "state": {
       "_dom_classes": [],
       "_model_module": "@jupyter-widgets/controls",
       "_model_module_version": "1.5.0",
       "_model_name": "HBoxModel",
       "_view_count": null,
       "_view_module": "@jupyter-widgets/controls",
       "_view_module_version": "1.5.0",
       "_view_name": "HBoxView",
       "box_style": "",
       "children": [
        "IPY_MODEL_2708605f64a04b9c843aa8c5939ac299",
        "IPY_MODEL_7f39844c8b4142d0a1c55080f58c42a2",
        "IPY_MODEL_06610bb3a42d488096f11e8a80dbb669"
       ],
       "layout": "IPY_MODEL_c28f02c1ca324fecbf3d3bf8eedc1dfe"
      }
     },
     "16702e2a108f49c5b4b219bff9bfa9f8": {
      "model_module": "@jupyter-widgets/controls",
      "model_module_version": "1.5.0",
      "model_name": "HBoxModel",
      "state": {
       "_dom_classes": [],
       "_model_module": "@jupyter-widgets/controls",
       "_model_module_version": "1.5.0",
       "_model_name": "HBoxModel",
       "_view_count": null,
       "_view_module": "@jupyter-widgets/controls",
       "_view_module_version": "1.5.0",
       "_view_name": "HBoxView",
       "box_style": "",
       "children": [
        "IPY_MODEL_fcc98e11b3ca459ab82726e46afaf1cc",
        "IPY_MODEL_7108deefc3404991b0a58b35e767075d",
        "IPY_MODEL_c7062bbb7cd6444ca76c7985dd877c9d"
       ],
       "layout": "IPY_MODEL_6705e0d32bea49b7a28f16e974b5ae55"
      }
     },
     "1c042735fe0c4fdbb5ccacebc37c9358": {
      "model_module": "@jupyter-widgets/controls",
      "model_module_version": "1.5.0",
      "model_name": "HTMLModel",
      "state": {
       "_dom_classes": [],
       "_model_module": "@jupyter-widgets/controls",
       "_model_module_version": "1.5.0",
       "_model_name": "HTMLModel",
       "_view_count": null,
       "_view_module": "@jupyter-widgets/controls",
       "_view_module_version": "1.5.0",
       "_view_name": "HTMLView",
       "description": "",
       "description_tooltip": null,
       "layout": "IPY_MODEL_fffdd2c13fcf43a5b928de4e2cf472ba",
       "placeholder": "​",
       "style": "IPY_MODEL_9209279766194317a91c7fb7db03fd35",
       "value": "Downloading: 100%"
      }
     },
     "1fcffa7f66924e1a8aa0c5ee5972ab5d": {
      "model_module": "@jupyter-widgets/base",
      "model_module_version": "1.2.0",
      "model_name": "LayoutModel",
      "state": {
       "_model_module": "@jupyter-widgets/base",
       "_model_module_version": "1.2.0",
       "_model_name": "LayoutModel",
       "_view_count": null,
       "_view_module": "@jupyter-widgets/base",
       "_view_module_version": "1.2.0",
       "_view_name": "LayoutView",
       "align_content": null,
       "align_items": null,
       "align_self": null,
       "border": null,
       "bottom": null,
       "display": null,
       "flex": null,
       "flex_flow": null,
       "grid_area": null,
       "grid_auto_columns": null,
       "grid_auto_flow": null,
       "grid_auto_rows": null,
       "grid_column": null,
       "grid_gap": null,
       "grid_row": null,
       "grid_template_areas": null,
       "grid_template_columns": null,
       "grid_template_rows": null,
       "height": null,
       "justify_content": null,
       "justify_items": null,
       "left": null,
       "margin": null,
       "max_height": null,
       "max_width": null,
       "min_height": null,
       "min_width": null,
       "object_fit": null,
       "object_position": null,
       "order": null,
       "overflow": null,
       "overflow_x": null,
       "overflow_y": null,
       "padding": null,
       "right": null,
       "top": null,
       "visibility": null,
       "width": null
      }
     },
     "215799c974664198b0af426a84741f3b": {
      "model_module": "@jupyter-widgets/base",
      "model_module_version": "1.2.0",
      "model_name": "LayoutModel",
      "state": {
       "_model_module": "@jupyter-widgets/base",
       "_model_module_version": "1.2.0",
       "_model_name": "LayoutModel",
       "_view_count": null,
       "_view_module": "@jupyter-widgets/base",
       "_view_module_version": "1.2.0",
       "_view_name": "LayoutView",
       "align_content": null,
       "align_items": null,
       "align_self": null,
       "border": null,
       "bottom": null,
       "display": null,
       "flex": null,
       "flex_flow": null,
       "grid_area": null,
       "grid_auto_columns": null,
       "grid_auto_flow": null,
       "grid_auto_rows": null,
       "grid_column": null,
       "grid_gap": null,
       "grid_row": null,
       "grid_template_areas": null,
       "grid_template_columns": null,
       "grid_template_rows": null,
       "height": null,
       "justify_content": null,
       "justify_items": null,
       "left": null,
       "margin": null,
       "max_height": null,
       "max_width": null,
       "min_height": null,
       "min_width": null,
       "object_fit": null,
       "object_position": null,
       "order": null,
       "overflow": null,
       "overflow_x": null,
       "overflow_y": null,
       "padding": null,
       "right": null,
       "top": null,
       "visibility": null,
       "width": null
      }
     },
     "22ae9bcd2a2645cab98ad16001ce599a": {
      "model_module": "@jupyter-widgets/controls",
      "model_module_version": "1.5.0",
      "model_name": "FloatProgressModel",
      "state": {
       "_dom_classes": [],
       "_model_module": "@jupyter-widgets/controls",
       "_model_module_version": "1.5.0",
       "_model_name": "FloatProgressModel",
       "_view_count": null,
       "_view_module": "@jupyter-widgets/controls",
       "_view_module_version": "1.5.0",
       "_view_name": "ProgressView",
       "bar_style": "success",
       "description": "",
       "description_tooltip": null,
       "layout": "IPY_MODEL_e8a861800ad248a2bc3badc46b879e19",
       "max": 435797,
       "min": 0,
       "orientation": "horizontal",
       "style": "IPY_MODEL_2d5013dd8af7492bbc3e9dcf3b3361e5",
       "value": 435797
      }
     },
     "2708605f64a04b9c843aa8c5939ac299": {
      "model_module": "@jupyter-widgets/controls",
      "model_module_version": "1.5.0",
      "model_name": "HTMLModel",
      "state": {
       "_dom_classes": [],
       "_model_module": "@jupyter-widgets/controls",
       "_model_module_version": "1.5.0",
       "_model_name": "HTMLModel",
       "_view_count": null,
       "_view_module": "@jupyter-widgets/controls",
       "_view_module_version": "1.5.0",
       "_view_name": "HTMLView",
       "description": "",
       "description_tooltip": null,
       "layout": "IPY_MODEL_6ce5445df9d443d7819abe71876a5be7",
       "placeholder": "​",
       "style": "IPY_MODEL_f2799bdf11d84d7aad7b574b5ccabc2c",
       "value": "Downloading: 100%"
      }
     },
     "2813ff2e98a04235bf4deb2884241bc1": {
      "model_module": "@jupyter-widgets/base",
      "model_module_version": "1.2.0",
      "model_name": "LayoutModel",
      "state": {
       "_model_module": "@jupyter-widgets/base",
       "_model_module_version": "1.2.0",
       "_model_name": "LayoutModel",
       "_view_count": null,
       "_view_module": "@jupyter-widgets/base",
       "_view_module_version": "1.2.0",
       "_view_name": "LayoutView",
       "align_content": null,
       "align_items": null,
       "align_self": null,
       "border": null,
       "bottom": null,
       "display": null,
       "flex": null,
       "flex_flow": null,
       "grid_area": null,
       "grid_auto_columns": null,
       "grid_auto_flow": null,
       "grid_auto_rows": null,
       "grid_column": null,
       "grid_gap": null,
       "grid_row": null,
       "grid_template_areas": null,
       "grid_template_columns": null,
       "grid_template_rows": null,
       "height": null,
       "justify_content": null,
       "justify_items": null,
       "left": null,
       "margin": null,
       "max_height": null,
       "max_width": null,
       "min_height": null,
       "min_width": null,
       "object_fit": null,
       "object_position": null,
       "order": null,
       "overflow": null,
       "overflow_x": null,
       "overflow_y": null,
       "padding": null,
       "right": null,
       "top": null,
       "visibility": null,
       "width": null
      }
     },
     "2904ddfd57c945f5bcd20d3f67def7da": {
      "model_module": "@jupyter-widgets/controls",
      "model_module_version": "1.5.0",
      "model_name": "DescriptionStyleModel",
      "state": {
       "_model_module": "@jupyter-widgets/controls",
       "_model_module_version": "1.5.0",
       "_model_name": "DescriptionStyleModel",
       "_view_count": null,
       "_view_module": "@jupyter-widgets/base",
       "_view_module_version": "1.2.0",
       "_view_name": "StyleView",
       "description_width": ""
      }
     },
     "296eb661ef3b4892b705f87ec937a656": {
      "model_module": "@jupyter-widgets/base",
      "model_module_version": "1.2.0",
      "model_name": "LayoutModel",
      "state": {
       "_model_module": "@jupyter-widgets/base",
       "_model_module_version": "1.2.0",
       "_model_name": "LayoutModel",
       "_view_count": null,
       "_view_module": "@jupyter-widgets/base",
       "_view_module_version": "1.2.0",
       "_view_name": "LayoutView",
       "align_content": null,
       "align_items": null,
       "align_self": null,
       "border": null,
       "bottom": null,
       "display": null,
       "flex": null,
       "flex_flow": null,
       "grid_area": null,
       "grid_auto_columns": null,
       "grid_auto_flow": null,
       "grid_auto_rows": null,
       "grid_column": null,
       "grid_gap": null,
       "grid_row": null,
       "grid_template_areas": null,
       "grid_template_columns": null,
       "grid_template_rows": null,
       "height": null,
       "justify_content": null,
       "justify_items": null,
       "left": null,
       "margin": null,
       "max_height": null,
       "max_width": null,
       "min_height": null,
       "min_width": null,
       "object_fit": null,
       "object_position": null,
       "order": null,
       "overflow": null,
       "overflow_x": null,
       "overflow_y": null,
       "padding": null,
       "right": null,
       "top": null,
       "visibility": null,
       "width": null
      }
     },
     "2b71e379986a4fb691106481950e8d09": {
      "model_module": "@jupyter-widgets/controls",
      "model_module_version": "1.5.0",
      "model_name": "ProgressStyleModel",
      "state": {
       "_model_module": "@jupyter-widgets/controls",
       "_model_module_version": "1.5.0",
       "_model_name": "ProgressStyleModel",
       "_view_count": null,
       "_view_module": "@jupyter-widgets/base",
       "_view_module_version": "1.2.0",
       "_view_name": "StyleView",
       "bar_color": null,
       "description_width": ""
      }
     },
     "2d5013dd8af7492bbc3e9dcf3b3361e5": {
      "model_module": "@jupyter-widgets/controls",
      "model_module_version": "1.5.0",
      "model_name": "ProgressStyleModel",
      "state": {
       "_model_module": "@jupyter-widgets/controls",
       "_model_module_version": "1.5.0",
       "_model_name": "ProgressStyleModel",
       "_view_count": null,
       "_view_module": "@jupyter-widgets/base",
       "_view_module_version": "1.2.0",
       "_view_name": "StyleView",
       "bar_color": null,
       "description_width": ""
      }
     },
     "2fd05e12a6f140c288113132e660e1b6": {
      "model_module": "@jupyter-widgets/base",
      "model_module_version": "1.2.0",
      "model_name": "LayoutModel",
      "state": {
       "_model_module": "@jupyter-widgets/base",
       "_model_module_version": "1.2.0",
       "_model_name": "LayoutModel",
       "_view_count": null,
       "_view_module": "@jupyter-widgets/base",
       "_view_module_version": "1.2.0",
       "_view_name": "LayoutView",
       "align_content": null,
       "align_items": null,
       "align_self": null,
       "border": null,
       "bottom": null,
       "display": null,
       "flex": null,
       "flex_flow": null,
       "grid_area": null,
       "grid_auto_columns": null,
       "grid_auto_flow": null,
       "grid_auto_rows": null,
       "grid_column": null,
       "grid_gap": null,
       "grid_row": null,
       "grid_template_areas": null,
       "grid_template_columns": null,
       "grid_template_rows": null,
       "height": null,
       "justify_content": null,
       "justify_items": null,
       "left": null,
       "margin": null,
       "max_height": null,
       "max_width": null,
       "min_height": null,
       "min_width": null,
       "object_fit": null,
       "object_position": null,
       "order": null,
       "overflow": null,
       "overflow_x": null,
       "overflow_y": null,
       "padding": null,
       "right": null,
       "top": null,
       "visibility": null,
       "width": null
      }
     },
     "3108944c64244722b420eacadd26865b": {
      "model_module": "@jupyter-widgets/controls",
      "model_module_version": "1.5.0",
      "model_name": "HTMLModel",
      "state": {
       "_dom_classes": [],
       "_model_module": "@jupyter-widgets/controls",
       "_model_module_version": "1.5.0",
       "_model_name": "HTMLModel",
       "_view_count": null,
       "_view_module": "@jupyter-widgets/controls",
       "_view_module_version": "1.5.0",
       "_view_name": "HTMLView",
       "description": "",
       "description_tooltip": null,
       "layout": "IPY_MODEL_ed381f164bfe42c1b196fa254346306d",
       "placeholder": "​",
       "style": "IPY_MODEL_8f3a57ede3f0425c95e51ad47031db18",
       "value": "Downloading: 100%"
      }
     },
     "32c04762b635486ab416a0d072ae9858": {
      "model_module": "@jupyter-widgets/controls",
      "model_module_version": "1.5.0",
      "model_name": "HBoxModel",
      "state": {
       "_dom_classes": [],
       "_model_module": "@jupyter-widgets/controls",
       "_model_module_version": "1.5.0",
       "_model_name": "HBoxModel",
       "_view_count": null,
       "_view_module": "@jupyter-widgets/controls",
       "_view_module_version": "1.5.0",
       "_view_name": "HBoxView",
       "box_style": "",
       "children": [
        "IPY_MODEL_3108944c64244722b420eacadd26865b",
        "IPY_MODEL_bf3f797254294d118d79bf4159b3c7ee",
        "IPY_MODEL_afe7cebc26534b0fa55ca4afe7052b27"
       ],
       "layout": "IPY_MODEL_ecf22203bfae41369a195d7e959857f8"
      }
     },
     "3a529366f07349c0bb1d0ea701b14509": {
      "model_module": "@jupyter-widgets/controls",
      "model_module_version": "1.5.0",
      "model_name": "FloatProgressModel",
      "state": {
       "_dom_classes": [],
       "_model_module": "@jupyter-widgets/controls",
       "_model_module_version": "1.5.0",
       "_model_name": "FloatProgressModel",
       "_view_count": null,
       "_view_module": "@jupyter-widgets/controls",
       "_view_module_version": "1.5.0",
       "_view_name": "ProgressView",
       "bar_style": "success",
       "description": "",
       "description_tooltip": null,
       "layout": "IPY_MODEL_f9beb4c7e3a24646a0ac05e8d87f753e",
       "max": 1,
       "min": 0,
       "orientation": "horizontal",
       "style": "IPY_MODEL_8f49806bf4df4510be76dd635927f1d6",
       "value": 1
      }
     },
     "48d7b44f999b4fb88615069309914451": {
      "model_module": "@jupyter-widgets/controls",
      "model_module_version": "1.5.0",
      "model_name": "DescriptionStyleModel",
      "state": {
       "_model_module": "@jupyter-widgets/controls",
       "_model_module_version": "1.5.0",
       "_model_name": "DescriptionStyleModel",
       "_view_count": null,
       "_view_module": "@jupyter-widgets/base",
       "_view_module_version": "1.2.0",
       "_view_name": "StyleView",
       "description_width": ""
      }
     },
     "4a2c3e8ba624498da1ab99129667c797": {
      "model_module": "@jupyter-widgets/controls",
      "model_module_version": "1.5.0",
      "model_name": "HTMLModel",
      "state": {
       "_dom_classes": [],
       "_model_module": "@jupyter-widgets/controls",
       "_model_module_version": "1.5.0",
       "_model_name": "HTMLModel",
       "_view_count": null,
       "_view_module": "@jupyter-widgets/controls",
       "_view_module_version": "1.5.0",
       "_view_name": "HTMLView",
       "description": "",
       "description_tooltip": null,
       "layout": "IPY_MODEL_6f9b3c8fefff4fea9654efff997a914e",
       "placeholder": "​",
       "style": "IPY_MODEL_cd27d2d27c7e4f328d6cedd786762ddd",
       "value": " 156060/? [01:10&lt;00:00, 2244.04it/s]"
      }
     },
     "4d8ef73782f442c79cebf1d32271487a": {
      "model_module": "@jupyter-widgets/controls",
      "model_module_version": "1.5.0",
      "model_name": "DescriptionStyleModel",
      "state": {
       "_model_module": "@jupyter-widgets/controls",
       "_model_module_version": "1.5.0",
       "_model_name": "DescriptionStyleModel",
       "_view_count": null,
       "_view_module": "@jupyter-widgets/base",
       "_view_module_version": "1.2.0",
       "_view_name": "StyleView",
       "description_width": ""
      }
     },
     "4fe41d67c8684486bde11654a332b894": {
      "model_module": "@jupyter-widgets/controls",
      "model_module_version": "1.5.0",
      "model_name": "DescriptionStyleModel",
      "state": {
       "_model_module": "@jupyter-widgets/controls",
       "_model_module_version": "1.5.0",
       "_model_name": "DescriptionStyleModel",
       "_view_count": null,
       "_view_module": "@jupyter-widgets/base",
       "_view_module_version": "1.2.0",
       "_view_name": "StyleView",
       "description_width": ""
      }
     },
     "549cc2cd56ec409ca7f63f00a33e29da": {
      "model_module": "@jupyter-widgets/base",
      "model_module_version": "1.2.0",
      "model_name": "LayoutModel",
      "state": {
       "_model_module": "@jupyter-widgets/base",
       "_model_module_version": "1.2.0",
       "_model_name": "LayoutModel",
       "_view_count": null,
       "_view_module": "@jupyter-widgets/base",
       "_view_module_version": "1.2.0",
       "_view_name": "LayoutView",
       "align_content": null,
       "align_items": null,
       "align_self": null,
       "border": null,
       "bottom": null,
       "display": null,
       "flex": null,
       "flex_flow": null,
       "grid_area": null,
       "grid_auto_columns": null,
       "grid_auto_flow": null,
       "grid_auto_rows": null,
       "grid_column": null,
       "grid_gap": null,
       "grid_row": null,
       "grid_template_areas": null,
       "grid_template_columns": null,
       "grid_template_rows": null,
       "height": null,
       "justify_content": null,
       "justify_items": null,
       "left": null,
       "margin": null,
       "max_height": null,
       "max_width": null,
       "min_height": null,
       "min_width": null,
       "object_fit": null,
       "object_position": null,
       "order": null,
       "overflow": null,
       "overflow_x": null,
       "overflow_y": null,
       "padding": null,
       "right": null,
       "top": null,
       "visibility": null,
       "width": null
      }
     },
     "55092c4f9511494687e5632834dbc294": {
      "model_module": "@jupyter-widgets/controls",
      "model_module_version": "1.5.0",
      "model_name": "HBoxModel",
      "state": {
       "_dom_classes": [],
       "_model_module": "@jupyter-widgets/controls",
       "_model_module_version": "1.5.0",
       "_model_name": "HBoxModel",
       "_view_count": null,
       "_view_module": "@jupyter-widgets/controls",
       "_view_module_version": "1.5.0",
       "_view_name": "HBoxView",
       "box_style": "",
       "children": [
        "IPY_MODEL_1c042735fe0c4fdbb5ccacebc37c9358",
        "IPY_MODEL_ab9cb6f00ab042e595a36bbd5393a630",
        "IPY_MODEL_e25111a8631f4dc98874a81120f3b935"
       ],
       "layout": "IPY_MODEL_296eb661ef3b4892b705f87ec937a656"
      }
     },
     "5f293cd560ad4831bbf1128e32df4ccf": {
      "model_module": "@jupyter-widgets/controls",
      "model_module_version": "1.5.0",
      "model_name": "DescriptionStyleModel",
      "state": {
       "_model_module": "@jupyter-widgets/controls",
       "_model_module_version": "1.5.0",
       "_model_name": "DescriptionStyleModel",
       "_view_count": null,
       "_view_module": "@jupyter-widgets/base",
       "_view_module_version": "1.2.0",
       "_view_name": "StyleView",
       "description_width": ""
      }
     },
     "65da5d6f5ea540208ce7086d62d4a45d": {
      "model_module": "@jupyter-widgets/controls",
      "model_module_version": "1.5.0",
      "model_name": "DescriptionStyleModel",
      "state": {
       "_model_module": "@jupyter-widgets/controls",
       "_model_module_version": "1.5.0",
       "_model_name": "DescriptionStyleModel",
       "_view_count": null,
       "_view_module": "@jupyter-widgets/base",
       "_view_module_version": "1.2.0",
       "_view_name": "StyleView",
       "description_width": ""
      }
     },
     "66abf63a0ca948d08f0c5fc6b2adc9fd": {
      "model_module": "@jupyter-widgets/controls",
      "model_module_version": "1.5.0",
      "model_name": "DescriptionStyleModel",
      "state": {
       "_model_module": "@jupyter-widgets/controls",
       "_model_module_version": "1.5.0",
       "_model_name": "DescriptionStyleModel",
       "_view_count": null,
       "_view_module": "@jupyter-widgets/base",
       "_view_module_version": "1.2.0",
       "_view_name": "StyleView",
       "description_width": ""
      }
     },
     "6705e0d32bea49b7a28f16e974b5ae55": {
      "model_module": "@jupyter-widgets/base",
      "model_module_version": "1.2.0",
      "model_name": "LayoutModel",
      "state": {
       "_model_module": "@jupyter-widgets/base",
       "_model_module_version": "1.2.0",
       "_model_name": "LayoutModel",
       "_view_count": null,
       "_view_module": "@jupyter-widgets/base",
       "_view_module_version": "1.2.0",
       "_view_name": "LayoutView",
       "align_content": null,
       "align_items": null,
       "align_self": null,
       "border": null,
       "bottom": null,
       "display": null,
       "flex": null,
       "flex_flow": null,
       "grid_area": null,
       "grid_auto_columns": null,
       "grid_auto_flow": null,
       "grid_auto_rows": null,
       "grid_column": null,
       "grid_gap": null,
       "grid_row": null,
       "grid_template_areas": null,
       "grid_template_columns": null,
       "grid_template_rows": null,
       "height": null,
       "justify_content": null,
       "justify_items": null,
       "left": null,
       "margin": null,
       "max_height": null,
       "max_width": null,
       "min_height": null,
       "min_width": null,
       "object_fit": null,
       "object_position": null,
       "order": null,
       "overflow": null,
       "overflow_x": null,
       "overflow_y": null,
       "padding": null,
       "right": null,
       "top": null,
       "visibility": null,
       "width": null
      }
     },
     "6ce5445df9d443d7819abe71876a5be7": {
      "model_module": "@jupyter-widgets/base",
      "model_module_version": "1.2.0",
      "model_name": "LayoutModel",
      "state": {
       "_model_module": "@jupyter-widgets/base",
       "_model_module_version": "1.2.0",
       "_model_name": "LayoutModel",
       "_view_count": null,
       "_view_module": "@jupyter-widgets/base",
       "_view_module_version": "1.2.0",
       "_view_name": "LayoutView",
       "align_content": null,
       "align_items": null,
       "align_self": null,
       "border": null,
       "bottom": null,
       "display": null,
       "flex": null,
       "flex_flow": null,
       "grid_area": null,
       "grid_auto_columns": null,
       "grid_auto_flow": null,
       "grid_auto_rows": null,
       "grid_column": null,
       "grid_gap": null,
       "grid_row": null,
       "grid_template_areas": null,
       "grid_template_columns": null,
       "grid_template_rows": null,
       "height": null,
       "justify_content": null,
       "justify_items": null,
       "left": null,
       "margin": null,
       "max_height": null,
       "max_width": null,
       "min_height": null,
       "min_width": null,
       "object_fit": null,
       "object_position": null,
       "order": null,
       "overflow": null,
       "overflow_x": null,
       "overflow_y": null,
       "padding": null,
       "right": null,
       "top": null,
       "visibility": null,
       "width": null
      }
     },
     "6f9b3c8fefff4fea9654efff997a914e": {
      "model_module": "@jupyter-widgets/base",
      "model_module_version": "1.2.0",
      "model_name": "LayoutModel",
      "state": {
       "_model_module": "@jupyter-widgets/base",
       "_model_module_version": "1.2.0",
       "_model_name": "LayoutModel",
       "_view_count": null,
       "_view_module": "@jupyter-widgets/base",
       "_view_module_version": "1.2.0",
       "_view_name": "LayoutView",
       "align_content": null,
       "align_items": null,
       "align_self": null,
       "border": null,
       "bottom": null,
       "display": null,
       "flex": null,
       "flex_flow": null,
       "grid_area": null,
       "grid_auto_columns": null,
       "grid_auto_flow": null,
       "grid_auto_rows": null,
       "grid_column": null,
       "grid_gap": null,
       "grid_row": null,
       "grid_template_areas": null,
       "grid_template_columns": null,
       "grid_template_rows": null,
       "height": null,
       "justify_content": null,
       "justify_items": null,
       "left": null,
       "margin": null,
       "max_height": null,
       "max_width": null,
       "min_height": null,
       "min_width": null,
       "object_fit": null,
       "object_position": null,
       "order": null,
       "overflow": null,
       "overflow_x": null,
       "overflow_y": null,
       "padding": null,
       "right": null,
       "top": null,
       "visibility": null,
       "width": null
      }
     },
     "7108deefc3404991b0a58b35e767075d": {
      "model_module": "@jupyter-widgets/controls",
      "model_module_version": "1.5.0",
      "model_name": "FloatProgressModel",
      "state": {
       "_dom_classes": [],
       "_model_module": "@jupyter-widgets/controls",
       "_model_module_version": "1.5.0",
       "_model_name": "FloatProgressModel",
       "_view_count": null,
       "_view_module": "@jupyter-widgets/controls",
       "_view_module_version": "1.5.0",
       "_view_name": "ProgressView",
       "bar_style": "success",
       "description": "",
       "description_tooltip": null,
       "layout": "IPY_MODEL_e4da3ef580524c1bb52e39b036c02739",
       "max": 29,
       "min": 0,
       "orientation": "horizontal",
       "style": "IPY_MODEL_d6eb706f6d634f1997ca0f65ee3faaa9",
       "value": 29
      }
     },
     "7171e6e5bf30414a829487d1e50a1280": {
      "model_module": "@jupyter-widgets/base",
      "model_module_version": "1.2.0",
      "model_name": "LayoutModel",
      "state": {
       "_model_module": "@jupyter-widgets/base",
       "_model_module_version": "1.2.0",
       "_model_name": "LayoutModel",
       "_view_count": null,
       "_view_module": "@jupyter-widgets/base",
       "_view_module_version": "1.2.0",
       "_view_name": "LayoutView",
       "align_content": null,
       "align_items": null,
       "align_self": null,
       "border": null,
       "bottom": null,
       "display": null,
       "flex": null,
       "flex_flow": null,
       "grid_area": null,
       "grid_auto_columns": null,
       "grid_auto_flow": null,
       "grid_auto_rows": null,
       "grid_column": null,
       "grid_gap": null,
       "grid_row": null,
       "grid_template_areas": null,
       "grid_template_columns": null,
       "grid_template_rows": null,
       "height": null,
       "justify_content": null,
       "justify_items": null,
       "left": null,
       "margin": null,
       "max_height": null,
       "max_width": null,
       "min_height": null,
       "min_width": null,
       "object_fit": null,
       "object_position": null,
       "order": null,
       "overflow": null,
       "overflow_x": null,
       "overflow_y": null,
       "padding": null,
       "right": null,
       "top": null,
       "visibility": null,
       "width": null
      }
     },
     "7f39844c8b4142d0a1c55080f58c42a2": {
      "model_module": "@jupyter-widgets/controls",
      "model_module_version": "1.5.0",
      "model_name": "FloatProgressModel",
      "state": {
       "_dom_classes": [],
       "_model_module": "@jupyter-widgets/controls",
       "_model_module_version": "1.5.0",
       "_model_name": "FloatProgressModel",
       "_view_count": null,
       "_view_module": "@jupyter-widgets/controls",
       "_view_module_version": "1.5.0",
       "_view_name": "ProgressView",
       "bar_style": "success",
       "description": "",
       "description_tooltip": null,
       "layout": "IPY_MODEL_549cc2cd56ec409ca7f63f00a33e29da",
       "max": 213450,
       "min": 0,
       "orientation": "horizontal",
       "style": "IPY_MODEL_a61361518cfc4234b777fd770799a220",
       "value": 213450
      }
     },
     "88d118104a1f4594aee9f9120437e930": {
      "model_module": "@jupyter-widgets/base",
      "model_module_version": "1.2.0",
      "model_name": "LayoutModel",
      "state": {
       "_model_module": "@jupyter-widgets/base",
       "_model_module_version": "1.2.0",
       "_model_name": "LayoutModel",
       "_view_count": null,
       "_view_module": "@jupyter-widgets/base",
       "_view_module_version": "1.2.0",
       "_view_name": "LayoutView",
       "align_content": null,
       "align_items": null,
       "align_self": null,
       "border": null,
       "bottom": null,
       "display": null,
       "flex": null,
       "flex_flow": null,
       "grid_area": null,
       "grid_auto_columns": null,
       "grid_auto_flow": null,
       "grid_auto_rows": null,
       "grid_column": null,
       "grid_gap": null,
       "grid_row": null,
       "grid_template_areas": null,
       "grid_template_columns": null,
       "grid_template_rows": null,
       "height": null,
       "justify_content": null,
       "justify_items": null,
       "left": null,
       "margin": null,
       "max_height": null,
       "max_width": null,
       "min_height": null,
       "min_width": null,
       "object_fit": null,
       "object_position": null,
       "order": null,
       "overflow": null,
       "overflow_x": null,
       "overflow_y": null,
       "padding": null,
       "right": null,
       "top": null,
       "visibility": null,
       "width": null
      }
     },
     "8f3a57ede3f0425c95e51ad47031db18": {
      "model_module": "@jupyter-widgets/controls",
      "model_module_version": "1.5.0",
      "model_name": "DescriptionStyleModel",
      "state": {
       "_model_module": "@jupyter-widgets/controls",
       "_model_module_version": "1.5.0",
       "_model_name": "DescriptionStyleModel",
       "_view_count": null,
       "_view_module": "@jupyter-widgets/base",
       "_view_module_version": "1.2.0",
       "_view_name": "StyleView",
       "description_width": ""
      }
     },
     "8f49806bf4df4510be76dd635927f1d6": {
      "model_module": "@jupyter-widgets/controls",
      "model_module_version": "1.5.0",
      "model_name": "ProgressStyleModel",
      "state": {
       "_model_module": "@jupyter-widgets/controls",
       "_model_module_version": "1.5.0",
       "_model_name": "ProgressStyleModel",
       "_view_count": null,
       "_view_module": "@jupyter-widgets/base",
       "_view_module_version": "1.2.0",
       "_view_name": "StyleView",
       "bar_color": null,
       "description_width": ""
      }
     },
     "9209279766194317a91c7fb7db03fd35": {
      "model_module": "@jupyter-widgets/controls",
      "model_module_version": "1.5.0",
      "model_name": "DescriptionStyleModel",
      "state": {
       "_model_module": "@jupyter-widgets/controls",
       "_model_module_version": "1.5.0",
       "_model_name": "DescriptionStyleModel",
       "_view_count": null,
       "_view_module": "@jupyter-widgets/base",
       "_view_module_version": "1.2.0",
       "_view_name": "StyleView",
       "description_width": ""
      }
     },
     "93385dc7d30b4406873b3469d68113d9": {
      "model_module": "@jupyter-widgets/controls",
      "model_module_version": "1.5.0",
      "model_name": "DescriptionStyleModel",
      "state": {
       "_model_module": "@jupyter-widgets/controls",
       "_model_module_version": "1.5.0",
       "_model_name": "DescriptionStyleModel",
       "_view_count": null,
       "_view_module": "@jupyter-widgets/base",
       "_view_module_version": "1.2.0",
       "_view_name": "StyleView",
       "description_width": ""
      }
     },
     "9421b875b31c49249fcb3b61c5196f49": {
      "model_module": "@jupyter-widgets/controls",
      "model_module_version": "1.5.0",
      "model_name": "ProgressStyleModel",
      "state": {
       "_model_module": "@jupyter-widgets/controls",
       "_model_module_version": "1.5.0",
       "_model_name": "ProgressStyleModel",
       "_view_count": null,
       "_view_module": "@jupyter-widgets/base",
       "_view_module_version": "1.2.0",
       "_view_name": "StyleView",
       "bar_color": null,
       "description_width": ""
      }
     },
     "9a1637d6728446a0a10011070646172c": {
      "model_module": "@jupyter-widgets/base",
      "model_module_version": "1.2.0",
      "model_name": "LayoutModel",
      "state": {
       "_model_module": "@jupyter-widgets/base",
       "_model_module_version": "1.2.0",
       "_model_name": "LayoutModel",
       "_view_count": null,
       "_view_module": "@jupyter-widgets/base",
       "_view_module_version": "1.2.0",
       "_view_name": "LayoutView",
       "align_content": null,
       "align_items": null,
       "align_self": null,
       "border": null,
       "bottom": null,
       "display": null,
       "flex": null,
       "flex_flow": null,
       "grid_area": null,
       "grid_auto_columns": null,
       "grid_auto_flow": null,
       "grid_auto_rows": null,
       "grid_column": null,
       "grid_gap": null,
       "grid_row": null,
       "grid_template_areas": null,
       "grid_template_columns": null,
       "grid_template_rows": null,
       "height": null,
       "justify_content": null,
       "justify_items": null,
       "left": null,
       "margin": null,
       "max_height": null,
       "max_width": null,
       "min_height": null,
       "min_width": null,
       "object_fit": null,
       "object_position": null,
       "order": null,
       "overflow": null,
       "overflow_x": null,
       "overflow_y": null,
       "padding": null,
       "right": null,
       "top": null,
       "visibility": null,
       "width": null
      }
     },
     "a06d00631e374a09b77d55ec706d56b5": {
      "model_module": "@jupyter-widgets/controls",
      "model_module_version": "1.5.0",
      "model_name": "HTMLModel",
      "state": {
       "_dom_classes": [],
       "_model_module": "@jupyter-widgets/controls",
       "_model_module_version": "1.5.0",
       "_model_name": "HTMLModel",
       "_view_count": null,
       "_view_module": "@jupyter-widgets/controls",
       "_view_module_version": "1.5.0",
       "_view_name": "HTMLView",
       "description": "",
       "description_tooltip": null,
       "layout": "IPY_MODEL_e86310aec6654a2798ba1990edbf4851",
       "placeholder": "​",
       "style": "IPY_MODEL_4fe41d67c8684486bde11654a332b894",
       "value": ""
      }
     },
     "a61361518cfc4234b777fd770799a220": {
      "model_module": "@jupyter-widgets/controls",
      "model_module_version": "1.5.0",
      "model_name": "ProgressStyleModel",
      "state": {
       "_model_module": "@jupyter-widgets/controls",
       "_model_module_version": "1.5.0",
       "_model_name": "ProgressStyleModel",
       "_view_count": null,
       "_view_module": "@jupyter-widgets/base",
       "_view_module_version": "1.2.0",
       "_view_name": "StyleView",
       "bar_color": null,
       "description_width": ""
      }
     },
     "ab9cb6f00ab042e595a36bbd5393a630": {
      "model_module": "@jupyter-widgets/controls",
      "model_module_version": "1.5.0",
      "model_name": "FloatProgressModel",
      "state": {
       "_dom_classes": [],
       "_model_module": "@jupyter-widgets/controls",
       "_model_module_version": "1.5.0",
       "_model_name": "FloatProgressModel",
       "_view_count": null,
       "_view_module": "@jupyter-widgets/controls",
       "_view_module_version": "1.5.0",
       "_view_name": "ProgressView",
       "bar_style": "success",
       "description": "",
       "description_tooltip": null,
       "layout": "IPY_MODEL_2fd05e12a6f140c288113132e660e1b6",
       "max": 526681800,
       "min": 0,
       "orientation": "horizontal",
       "style": "IPY_MODEL_2b71e379986a4fb691106481950e8d09",
       "value": 526681800
      }
     },
     "afe7cebc26534b0fa55ca4afe7052b27": {
      "model_module": "@jupyter-widgets/controls",
      "model_module_version": "1.5.0",
      "model_name": "HTMLModel",
      "state": {
       "_dom_classes": [],
       "_model_module": "@jupyter-widgets/controls",
       "_model_module_version": "1.5.0",
       "_model_name": "HTMLModel",
       "_view_count": null,
       "_view_module": "@jupyter-widgets/controls",
       "_view_module_version": "1.5.0",
       "_view_name": "HTMLView",
       "description": "",
       "description_tooltip": null,
       "layout": "IPY_MODEL_d0c0f2af6a9549fcb5368c800a0abeee",
       "placeholder": "​",
       "style": "IPY_MODEL_4d8ef73782f442c79cebf1d32271487a",
       "value": " 570/570 [00:00&lt;00:00, 22.8kB/s]"
      }
     },
     "b73a8f0248f343189ec9b91fa10a546c": {
      "model_module": "@jupyter-widgets/controls",
      "model_module_version": "1.5.0",
      "model_name": "HBoxModel",
      "state": {
       "_dom_classes": [],
       "_model_module": "@jupyter-widgets/controls",
       "_model_module_version": "1.5.0",
       "_model_name": "HBoxModel",
       "_view_count": null,
       "_view_module": "@jupyter-widgets/controls",
       "_view_module_version": "1.5.0",
       "_view_name": "HBoxView",
       "box_style": "",
       "children": [
        "IPY_MODEL_a06d00631e374a09b77d55ec706d56b5",
        "IPY_MODEL_3a529366f07349c0bb1d0ea701b14509",
        "IPY_MODEL_4a2c3e8ba624498da1ab99129667c797"
       ],
       "layout": "IPY_MODEL_2813ff2e98a04235bf4deb2884241bc1"
      }
     },
     "bae3edb0ee4f4090be1e35ca5adc90fc": {
      "model_module": "@jupyter-widgets/controls",
      "model_module_version": "1.5.0",
      "model_name": "HBoxModel",
      "state": {
       "_dom_classes": [],
       "_model_module": "@jupyter-widgets/controls",
       "_model_module_version": "1.5.0",
       "_model_name": "HBoxModel",
       "_view_count": null,
       "_view_module": "@jupyter-widgets/controls",
       "_view_module_version": "1.5.0",
       "_view_name": "HBoxView",
       "box_style": "",
       "children": [
        "IPY_MODEL_c302116c2b174098bce854b1941eddea",
        "IPY_MODEL_22ae9bcd2a2645cab98ad16001ce599a",
        "IPY_MODEL_01ae1659b8814115960d2d9a401f7c4c"
       ],
       "layout": "IPY_MODEL_dca011cdf48440c89832d99334c0984a"
      }
     },
     "bf3f797254294d118d79bf4159b3c7ee": {
      "model_module": "@jupyter-widgets/controls",
      "model_module_version": "1.5.0",
      "model_name": "FloatProgressModel",
      "state": {
       "_dom_classes": [],
       "_model_module": "@jupyter-widgets/controls",
       "_model_module_version": "1.5.0",
       "_model_name": "FloatProgressModel",
       "_view_count": null,
       "_view_module": "@jupyter-widgets/controls",
       "_view_module_version": "1.5.0",
       "_view_name": "ProgressView",
       "bar_style": "success",
       "description": "",
       "description_tooltip": null,
       "layout": "IPY_MODEL_88d118104a1f4594aee9f9120437e930",
       "max": 570,
       "min": 0,
       "orientation": "horizontal",
       "style": "IPY_MODEL_9421b875b31c49249fcb3b61c5196f49",
       "value": 570
      }
     },
     "c28f02c1ca324fecbf3d3bf8eedc1dfe": {
      "model_module": "@jupyter-widgets/base",
      "model_module_version": "1.2.0",
      "model_name": "LayoutModel",
      "state": {
       "_model_module": "@jupyter-widgets/base",
       "_model_module_version": "1.2.0",
       "_model_name": "LayoutModel",
       "_view_count": null,
       "_view_module": "@jupyter-widgets/base",
       "_view_module_version": "1.2.0",
       "_view_name": "LayoutView",
       "align_content": null,
       "align_items": null,
       "align_self": null,
       "border": null,
       "bottom": null,
       "display": null,
       "flex": null,
       "flex_flow": null,
       "grid_area": null,
       "grid_auto_columns": null,
       "grid_auto_flow": null,
       "grid_auto_rows": null,
       "grid_column": null,
       "grid_gap": null,
       "grid_row": null,
       "grid_template_areas": null,
       "grid_template_columns": null,
       "grid_template_rows": null,
       "height": null,
       "justify_content": null,
       "justify_items": null,
       "left": null,
       "margin": null,
       "max_height": null,
       "max_width": null,
       "min_height": null,
       "min_width": null,
       "object_fit": null,
       "object_position": null,
       "order": null,
       "overflow": null,
       "overflow_x": null,
       "overflow_y": null,
       "padding": null,
       "right": null,
       "top": null,
       "visibility": null,
       "width": null
      }
     },
     "c302116c2b174098bce854b1941eddea": {
      "model_module": "@jupyter-widgets/controls",
      "model_module_version": "1.5.0",
      "model_name": "HTMLModel",
      "state": {
       "_dom_classes": [],
       "_model_module": "@jupyter-widgets/controls",
       "_model_module_version": "1.5.0",
       "_model_name": "HTMLModel",
       "_view_count": null,
       "_view_module": "@jupyter-widgets/controls",
       "_view_module_version": "1.5.0",
       "_view_name": "HTMLView",
       "description": "",
       "description_tooltip": null,
       "layout": "IPY_MODEL_1fcffa7f66924e1a8aa0c5ee5972ab5d",
       "placeholder": "​",
       "style": "IPY_MODEL_65da5d6f5ea540208ce7086d62d4a45d",
       "value": "Downloading: 100%"
      }
     },
     "c7062bbb7cd6444ca76c7985dd877c9d": {
      "model_module": "@jupyter-widgets/controls",
      "model_module_version": "1.5.0",
      "model_name": "HTMLModel",
      "state": {
       "_dom_classes": [],
       "_model_module": "@jupyter-widgets/controls",
       "_model_module_version": "1.5.0",
       "_model_name": "HTMLModel",
       "_view_count": null,
       "_view_module": "@jupyter-widgets/controls",
       "_view_module_version": "1.5.0",
       "_view_name": "HTMLView",
       "description": "",
       "description_tooltip": null,
       "layout": "IPY_MODEL_215799c974664198b0af426a84741f3b",
       "placeholder": "​",
       "style": "IPY_MODEL_93385dc7d30b4406873b3469d68113d9",
       "value": " 29.0/29.0 [00:00&lt;00:00, 1.12kB/s]"
      }
     },
     "cd27d2d27c7e4f328d6cedd786762ddd": {
      "model_module": "@jupyter-widgets/controls",
      "model_module_version": "1.5.0",
      "model_name": "DescriptionStyleModel",
      "state": {
       "_model_module": "@jupyter-widgets/controls",
       "_model_module_version": "1.5.0",
       "_model_name": "DescriptionStyleModel",
       "_view_count": null,
       "_view_module": "@jupyter-widgets/base",
       "_view_module_version": "1.2.0",
       "_view_name": "StyleView",
       "description_width": ""
      }
     },
     "d0c0f2af6a9549fcb5368c800a0abeee": {
      "model_module": "@jupyter-widgets/base",
      "model_module_version": "1.2.0",
      "model_name": "LayoutModel",
      "state": {
       "_model_module": "@jupyter-widgets/base",
       "_model_module_version": "1.2.0",
       "_model_name": "LayoutModel",
       "_view_count": null,
       "_view_module": "@jupyter-widgets/base",
       "_view_module_version": "1.2.0",
       "_view_name": "LayoutView",
       "align_content": null,
       "align_items": null,
       "align_self": null,
       "border": null,
       "bottom": null,
       "display": null,
       "flex": null,
       "flex_flow": null,
       "grid_area": null,
       "grid_auto_columns": null,
       "grid_auto_flow": null,
       "grid_auto_rows": null,
       "grid_column": null,
       "grid_gap": null,
       "grid_row": null,
       "grid_template_areas": null,
       "grid_template_columns": null,
       "grid_template_rows": null,
       "height": null,
       "justify_content": null,
       "justify_items": null,
       "left": null,
       "margin": null,
       "max_height": null,
       "max_width": null,
       "min_height": null,
       "min_width": null,
       "object_fit": null,
       "object_position": null,
       "order": null,
       "overflow": null,
       "overflow_x": null,
       "overflow_y": null,
       "padding": null,
       "right": null,
       "top": null,
       "visibility": null,
       "width": null
      }
     },
     "d6eb706f6d634f1997ca0f65ee3faaa9": {
      "model_module": "@jupyter-widgets/controls",
      "model_module_version": "1.5.0",
      "model_name": "ProgressStyleModel",
      "state": {
       "_model_module": "@jupyter-widgets/controls",
       "_model_module_version": "1.5.0",
       "_model_name": "ProgressStyleModel",
       "_view_count": null,
       "_view_module": "@jupyter-widgets/base",
       "_view_module_version": "1.2.0",
       "_view_name": "StyleView",
       "bar_color": null,
       "description_width": ""
      }
     },
     "dca011cdf48440c89832d99334c0984a": {
      "model_module": "@jupyter-widgets/base",
      "model_module_version": "1.2.0",
      "model_name": "LayoutModel",
      "state": {
       "_model_module": "@jupyter-widgets/base",
       "_model_module_version": "1.2.0",
       "_model_name": "LayoutModel",
       "_view_count": null,
       "_view_module": "@jupyter-widgets/base",
       "_view_module_version": "1.2.0",
       "_view_name": "LayoutView",
       "align_content": null,
       "align_items": null,
       "align_self": null,
       "border": null,
       "bottom": null,
       "display": null,
       "flex": null,
       "flex_flow": null,
       "grid_area": null,
       "grid_auto_columns": null,
       "grid_auto_flow": null,
       "grid_auto_rows": null,
       "grid_column": null,
       "grid_gap": null,
       "grid_row": null,
       "grid_template_areas": null,
       "grid_template_columns": null,
       "grid_template_rows": null,
       "height": null,
       "justify_content": null,
       "justify_items": null,
       "left": null,
       "margin": null,
       "max_height": null,
       "max_width": null,
       "min_height": null,
       "min_width": null,
       "object_fit": null,
       "object_position": null,
       "order": null,
       "overflow": null,
       "overflow_x": null,
       "overflow_y": null,
       "padding": null,
       "right": null,
       "top": null,
       "visibility": null,
       "width": null
      }
     },
     "e25111a8631f4dc98874a81120f3b935": {
      "model_module": "@jupyter-widgets/controls",
      "model_module_version": "1.5.0",
      "model_name": "HTMLModel",
      "state": {
       "_dom_classes": [],
       "_model_module": "@jupyter-widgets/controls",
       "_model_module_version": "1.5.0",
       "_model_name": "HTMLModel",
       "_view_count": null,
       "_view_module": "@jupyter-widgets/controls",
       "_view_module_version": "1.5.0",
       "_view_name": "HTMLView",
       "description": "",
       "description_tooltip": null,
       "layout": "IPY_MODEL_efa1fcd80eef42dfb7f375cfd6e1ebca",
       "placeholder": "​",
       "style": "IPY_MODEL_66abf63a0ca948d08f0c5fc6b2adc9fd",
       "value": " 502M/502M [00:31&lt;00:00, 17.4MB/s]"
      }
     },
     "e4da3ef580524c1bb52e39b036c02739": {
      "model_module": "@jupyter-widgets/base",
      "model_module_version": "1.2.0",
      "model_name": "LayoutModel",
      "state": {
       "_model_module": "@jupyter-widgets/base",
       "_model_module_version": "1.2.0",
       "_model_name": "LayoutModel",
       "_view_count": null,
       "_view_module": "@jupyter-widgets/base",
       "_view_module_version": "1.2.0",
       "_view_name": "LayoutView",
       "align_content": null,
       "align_items": null,
       "align_self": null,
       "border": null,
       "bottom": null,
       "display": null,
       "flex": null,
       "flex_flow": null,
       "grid_area": null,
       "grid_auto_columns": null,
       "grid_auto_flow": null,
       "grid_auto_rows": null,
       "grid_column": null,
       "grid_gap": null,
       "grid_row": null,
       "grid_template_areas": null,
       "grid_template_columns": null,
       "grid_template_rows": null,
       "height": null,
       "justify_content": null,
       "justify_items": null,
       "left": null,
       "margin": null,
       "max_height": null,
       "max_width": null,
       "min_height": null,
       "min_width": null,
       "object_fit": null,
       "object_position": null,
       "order": null,
       "overflow": null,
       "overflow_x": null,
       "overflow_y": null,
       "padding": null,
       "right": null,
       "top": null,
       "visibility": null,
       "width": null
      }
     },
     "e86310aec6654a2798ba1990edbf4851": {
      "model_module": "@jupyter-widgets/base",
      "model_module_version": "1.2.0",
      "model_name": "LayoutModel",
      "state": {
       "_model_module": "@jupyter-widgets/base",
       "_model_module_version": "1.2.0",
       "_model_name": "LayoutModel",
       "_view_count": null,
       "_view_module": "@jupyter-widgets/base",
       "_view_module_version": "1.2.0",
       "_view_name": "LayoutView",
       "align_content": null,
       "align_items": null,
       "align_self": null,
       "border": null,
       "bottom": null,
       "display": null,
       "flex": null,
       "flex_flow": null,
       "grid_area": null,
       "grid_auto_columns": null,
       "grid_auto_flow": null,
       "grid_auto_rows": null,
       "grid_column": null,
       "grid_gap": null,
       "grid_row": null,
       "grid_template_areas": null,
       "grid_template_columns": null,
       "grid_template_rows": null,
       "height": null,
       "justify_content": null,
       "justify_items": null,
       "left": null,
       "margin": null,
       "max_height": null,
       "max_width": null,
       "min_height": null,
       "min_width": null,
       "object_fit": null,
       "object_position": null,
       "order": null,
       "overflow": null,
       "overflow_x": null,
       "overflow_y": null,
       "padding": null,
       "right": null,
       "top": null,
       "visibility": null,
       "width": null
      }
     },
     "e8a861800ad248a2bc3badc46b879e19": {
      "model_module": "@jupyter-widgets/base",
      "model_module_version": "1.2.0",
      "model_name": "LayoutModel",
      "state": {
       "_model_module": "@jupyter-widgets/base",
       "_model_module_version": "1.2.0",
       "_model_name": "LayoutModel",
       "_view_count": null,
       "_view_module": "@jupyter-widgets/base",
       "_view_module_version": "1.2.0",
       "_view_name": "LayoutView",
       "align_content": null,
       "align_items": null,
       "align_self": null,
       "border": null,
       "bottom": null,
       "display": null,
       "flex": null,
       "flex_flow": null,
       "grid_area": null,
       "grid_auto_columns": null,
       "grid_auto_flow": null,
       "grid_auto_rows": null,
       "grid_column": null,
       "grid_gap": null,
       "grid_row": null,
       "grid_template_areas": null,
       "grid_template_columns": null,
       "grid_template_rows": null,
       "height": null,
       "justify_content": null,
       "justify_items": null,
       "left": null,
       "margin": null,
       "max_height": null,
       "max_width": null,
       "min_height": null,
       "min_width": null,
       "object_fit": null,
       "object_position": null,
       "order": null,
       "overflow": null,
       "overflow_x": null,
       "overflow_y": null,
       "padding": null,
       "right": null,
       "top": null,
       "visibility": null,
       "width": null
      }
     },
     "ecf22203bfae41369a195d7e959857f8": {
      "model_module": "@jupyter-widgets/base",
      "model_module_version": "1.2.0",
      "model_name": "LayoutModel",
      "state": {
       "_model_module": "@jupyter-widgets/base",
       "_model_module_version": "1.2.0",
       "_model_name": "LayoutModel",
       "_view_count": null,
       "_view_module": "@jupyter-widgets/base",
       "_view_module_version": "1.2.0",
       "_view_name": "LayoutView",
       "align_content": null,
       "align_items": null,
       "align_self": null,
       "border": null,
       "bottom": null,
       "display": null,
       "flex": null,
       "flex_flow": null,
       "grid_area": null,
       "grid_auto_columns": null,
       "grid_auto_flow": null,
       "grid_auto_rows": null,
       "grid_column": null,
       "grid_gap": null,
       "grid_row": null,
       "grid_template_areas": null,
       "grid_template_columns": null,
       "grid_template_rows": null,
       "height": null,
       "justify_content": null,
       "justify_items": null,
       "left": null,
       "margin": null,
       "max_height": null,
       "max_width": null,
       "min_height": null,
       "min_width": null,
       "object_fit": null,
       "object_position": null,
       "order": null,
       "overflow": null,
       "overflow_x": null,
       "overflow_y": null,
       "padding": null,
       "right": null,
       "top": null,
       "visibility": null,
       "width": null
      }
     },
     "ed381f164bfe42c1b196fa254346306d": {
      "model_module": "@jupyter-widgets/base",
      "model_module_version": "1.2.0",
      "model_name": "LayoutModel",
      "state": {
       "_model_module": "@jupyter-widgets/base",
       "_model_module_version": "1.2.0",
       "_model_name": "LayoutModel",
       "_view_count": null,
       "_view_module": "@jupyter-widgets/base",
       "_view_module_version": "1.2.0",
       "_view_name": "LayoutView",
       "align_content": null,
       "align_items": null,
       "align_self": null,
       "border": null,
       "bottom": null,
       "display": null,
       "flex": null,
       "flex_flow": null,
       "grid_area": null,
       "grid_auto_columns": null,
       "grid_auto_flow": null,
       "grid_auto_rows": null,
       "grid_column": null,
       "grid_gap": null,
       "grid_row": null,
       "grid_template_areas": null,
       "grid_template_columns": null,
       "grid_template_rows": null,
       "height": null,
       "justify_content": null,
       "justify_items": null,
       "left": null,
       "margin": null,
       "max_height": null,
       "max_width": null,
       "min_height": null,
       "min_width": null,
       "object_fit": null,
       "object_position": null,
       "order": null,
       "overflow": null,
       "overflow_x": null,
       "overflow_y": null,
       "padding": null,
       "right": null,
       "top": null,
       "visibility": null,
       "width": null
      }
     },
     "efa1fcd80eef42dfb7f375cfd6e1ebca": {
      "model_module": "@jupyter-widgets/base",
      "model_module_version": "1.2.0",
      "model_name": "LayoutModel",
      "state": {
       "_model_module": "@jupyter-widgets/base",
       "_model_module_version": "1.2.0",
       "_model_name": "LayoutModel",
       "_view_count": null,
       "_view_module": "@jupyter-widgets/base",
       "_view_module_version": "1.2.0",
       "_view_name": "LayoutView",
       "align_content": null,
       "align_items": null,
       "align_self": null,
       "border": null,
       "bottom": null,
       "display": null,
       "flex": null,
       "flex_flow": null,
       "grid_area": null,
       "grid_auto_columns": null,
       "grid_auto_flow": null,
       "grid_auto_rows": null,
       "grid_column": null,
       "grid_gap": null,
       "grid_row": null,
       "grid_template_areas": null,
       "grid_template_columns": null,
       "grid_template_rows": null,
       "height": null,
       "justify_content": null,
       "justify_items": null,
       "left": null,
       "margin": null,
       "max_height": null,
       "max_width": null,
       "min_height": null,
       "min_width": null,
       "object_fit": null,
       "object_position": null,
       "order": null,
       "overflow": null,
       "overflow_x": null,
       "overflow_y": null,
       "padding": null,
       "right": null,
       "top": null,
       "visibility": null,
       "width": null
      }
     },
     "f2799bdf11d84d7aad7b574b5ccabc2c": {
      "model_module": "@jupyter-widgets/controls",
      "model_module_version": "1.5.0",
      "model_name": "DescriptionStyleModel",
      "state": {
       "_model_module": "@jupyter-widgets/controls",
       "_model_module_version": "1.5.0",
       "_model_name": "DescriptionStyleModel",
       "_view_count": null,
       "_view_module": "@jupyter-widgets/base",
       "_view_module_version": "1.2.0",
       "_view_name": "StyleView",
       "description_width": ""
      }
     },
     "f9beb4c7e3a24646a0ac05e8d87f753e": {
      "model_module": "@jupyter-widgets/base",
      "model_module_version": "1.2.0",
      "model_name": "LayoutModel",
      "state": {
       "_model_module": "@jupyter-widgets/base",
       "_model_module_version": "1.2.0",
       "_model_name": "LayoutModel",
       "_view_count": null,
       "_view_module": "@jupyter-widgets/base",
       "_view_module_version": "1.2.0",
       "_view_name": "LayoutView",
       "align_content": null,
       "align_items": null,
       "align_self": null,
       "border": null,
       "bottom": null,
       "display": null,
       "flex": null,
       "flex_flow": null,
       "grid_area": null,
       "grid_auto_columns": null,
       "grid_auto_flow": null,
       "grid_auto_rows": null,
       "grid_column": null,
       "grid_gap": null,
       "grid_row": null,
       "grid_template_areas": null,
       "grid_template_columns": null,
       "grid_template_rows": null,
       "height": null,
       "justify_content": null,
       "justify_items": null,
       "left": null,
       "margin": null,
       "max_height": null,
       "max_width": null,
       "min_height": null,
       "min_width": null,
       "object_fit": null,
       "object_position": null,
       "order": null,
       "overflow": null,
       "overflow_x": null,
       "overflow_y": null,
       "padding": null,
       "right": null,
       "top": null,
       "visibility": null,
       "width": "20px"
      }
     },
     "fcc98e11b3ca459ab82726e46afaf1cc": {
      "model_module": "@jupyter-widgets/controls",
      "model_module_version": "1.5.0",
      "model_name": "HTMLModel",
      "state": {
       "_dom_classes": [],
       "_model_module": "@jupyter-widgets/controls",
       "_model_module_version": "1.5.0",
       "_model_name": "HTMLModel",
       "_view_count": null,
       "_view_module": "@jupyter-widgets/controls",
       "_view_module_version": "1.5.0",
       "_view_name": "HTMLView",
       "description": "",
       "description_tooltip": null,
       "layout": "IPY_MODEL_9a1637d6728446a0a10011070646172c",
       "placeholder": "​",
       "style": "IPY_MODEL_2904ddfd57c945f5bcd20d3f67def7da",
       "value": "Downloading: 100%"
      }
     },
     "fffdd2c13fcf43a5b928de4e2cf472ba": {
      "model_module": "@jupyter-widgets/base",
      "model_module_version": "1.2.0",
      "model_name": "LayoutModel",
      "state": {
       "_model_module": "@jupyter-widgets/base",
       "_model_module_version": "1.2.0",
       "_model_name": "LayoutModel",
       "_view_count": null,
       "_view_module": "@jupyter-widgets/base",
       "_view_module_version": "1.2.0",
       "_view_name": "LayoutView",
       "align_content": null,
       "align_items": null,
       "align_self": null,
       "border": null,
       "bottom": null,
       "display": null,
       "flex": null,
       "flex_flow": null,
       "grid_area": null,
       "grid_auto_columns": null,
       "grid_auto_flow": null,
       "grid_auto_rows": null,
       "grid_column": null,
       "grid_gap": null,
       "grid_row": null,
       "grid_template_areas": null,
       "grid_template_columns": null,
       "grid_template_rows": null,
       "height": null,
       "justify_content": null,
       "justify_items": null,
       "left": null,
       "margin": null,
       "max_height": null,
       "max_width": null,
       "min_height": null,
       "min_width": null,
       "object_fit": null,
       "object_position": null,
       "order": null,
       "overflow": null,
       "overflow_x": null,
       "overflow_y": null,
       "padding": null,
       "right": null,
       "top": null,
       "visibility": null,
       "width": null
      }
     }
    },
    "version_major": 2,
    "version_minor": 0
   }
  }
 },
 "nbformat": 4,
 "nbformat_minor": 5
}
