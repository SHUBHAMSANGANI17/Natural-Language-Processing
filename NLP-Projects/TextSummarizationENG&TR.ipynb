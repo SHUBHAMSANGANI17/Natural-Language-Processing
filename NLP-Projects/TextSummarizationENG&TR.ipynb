{
 "cells": [
  {
   "cell_type": "code",
   "execution_count": null,
   "id": "0e7fad8d",
   "metadata": {
    "collapsed": true
   },
   "outputs": [],
   "source": [
    "!pip install -U spacy\n",
    "!python -m spacy download en_core_web_sm"
   ]
  },
  {
   "cell_type": "code",
   "execution_count": 2,
   "id": "202f002f",
   "metadata": {},
   "outputs": [],
   "source": [
    "import spacy\n",
    "from spacy.lang.en.stop_words import STOP_WORDS\n",
    "from string import punctuation\n",
    "from nltk.corpus import stopwords\n",
    "from heapq import nlargest"
   ]
  },
  {
   "cell_type": "code",
   "execution_count": 3,
   "id": "5360de28",
   "metadata": {},
   "outputs": [],
   "source": [
    "text= \"\"\"\n",
    "I enjoyed hearing you speak at the Martian Writers' Conference last month. Not many New York-based agents take the time to come to Mars to meet the local writers; we really appreciate the ones who do. Since you so ably represented BLUE-EYED VENUSIAN, I hope you will be interested in my book, MY HEART GOES ON TO MARS, a romantic thriller that will appeal to workers in the interstellar travel industry because it is the first novel to portray their difficult-but- glamorous job accurately. Stella Artois (157) is a flight attendant on the brand-new starcruiser Titanic, the largest passenger starcraft ever built. Hardly has she strapped in the wealthy passengers on its monumentally-costly maiden voyage, however, when she hears turmoil from below deck. \"That's funny,\" she thinks, climbing below. \"As on the ship for which my vessel is named, there is no economy class on this trip.\" Taken hostage by a rollicking horde of Edwardian stereotypes, can Stella escape, warn the captain about that space iceberg, and find true love before it's time to serve the warm peanuts to first class? I am uniquely qualified to tell this story, due to my many years as a supervisor for Intergalactic Flights, Inc., my Ph.D. in astrophysics from the University of Guam, and a childhood spent locked in a closet, watching the films of James Cameron on an endless loop. My writing has been published in Martian Mother's Day, Good Cryptkeeping, and Ms. Thank you for your time in reviewing this, and I hope that the enclosed synopsis will pique your interest. I may be reached at the address and phone number above, as well as via e- mail at aspiring@pickme.net. I enclose a SASE for your convenience, and I look forward to hearing from you soon. \n",
    "\"\"\""
   ]
  },
  {
   "cell_type": "code",
   "execution_count": 4,
   "id": "f305ad02",
   "metadata": {},
   "outputs": [],
   "source": [
    "stopwords = stopwords.words(\"English\")\n",
    "# If we want to extract a text summary in Turkish, it is sufficient to simply change this to \"Turkish\".\n",
    "# The rest of the operations are the same for Turkish.\n",
    "# The purpose of the stopwords function here is to use the auxiliary words so that they do not take up space in the database and shorten the guessing time."
   ]
  },
  {
   "cell_type": "code",
   "execution_count": 5,
   "id": "397c4a75",
   "metadata": {
    "scrolled": false
   },
   "outputs": [
    {
     "data": {
      "text/plain": [
       "['i',\n",
       " 'me',\n",
       " 'my',\n",
       " 'myself',\n",
       " 'we',\n",
       " 'our',\n",
       " 'ours',\n",
       " 'ourselves',\n",
       " 'you',\n",
       " \"you're\",\n",
       " \"you've\",\n",
       " \"you'll\",\n",
       " \"you'd\",\n",
       " 'your',\n",
       " 'yours',\n",
       " 'yourself',\n",
       " 'yourselves',\n",
       " 'he',\n",
       " 'him',\n",
       " 'his',\n",
       " 'himself',\n",
       " 'she',\n",
       " \"she's\",\n",
       " 'her',\n",
       " 'hers',\n",
       " 'herself',\n",
       " 'it',\n",
       " \"it's\",\n",
       " 'its',\n",
       " 'itself',\n",
       " 'they',\n",
       " 'them',\n",
       " 'their',\n",
       " 'theirs',\n",
       " 'themselves',\n",
       " 'what',\n",
       " 'which',\n",
       " 'who',\n",
       " 'whom',\n",
       " 'this',\n",
       " 'that',\n",
       " \"that'll\",\n",
       " 'these',\n",
       " 'those',\n",
       " 'am',\n",
       " 'is',\n",
       " 'are',\n",
       " 'was',\n",
       " 'were',\n",
       " 'be',\n",
       " 'been',\n",
       " 'being',\n",
       " 'have',\n",
       " 'has',\n",
       " 'had',\n",
       " 'having',\n",
       " 'do',\n",
       " 'does',\n",
       " 'did',\n",
       " 'doing',\n",
       " 'a',\n",
       " 'an',\n",
       " 'the',\n",
       " 'and',\n",
       " 'but',\n",
       " 'if',\n",
       " 'or',\n",
       " 'because',\n",
       " 'as',\n",
       " 'until',\n",
       " 'while',\n",
       " 'of',\n",
       " 'at',\n",
       " 'by',\n",
       " 'for',\n",
       " 'with',\n",
       " 'about',\n",
       " 'against',\n",
       " 'between',\n",
       " 'into',\n",
       " 'through',\n",
       " 'during',\n",
       " 'before',\n",
       " 'after',\n",
       " 'above',\n",
       " 'below',\n",
       " 'to',\n",
       " 'from',\n",
       " 'up',\n",
       " 'down',\n",
       " 'in',\n",
       " 'out',\n",
       " 'on',\n",
       " 'off',\n",
       " 'over',\n",
       " 'under',\n",
       " 'again',\n",
       " 'further',\n",
       " 'then',\n",
       " 'once',\n",
       " 'here',\n",
       " 'there',\n",
       " 'when',\n",
       " 'where',\n",
       " 'why',\n",
       " 'how',\n",
       " 'all',\n",
       " 'any',\n",
       " 'both',\n",
       " 'each',\n",
       " 'few',\n",
       " 'more',\n",
       " 'most',\n",
       " 'other',\n",
       " 'some',\n",
       " 'such',\n",
       " 'no',\n",
       " 'nor',\n",
       " 'not',\n",
       " 'only',\n",
       " 'own',\n",
       " 'same',\n",
       " 'so',\n",
       " 'than',\n",
       " 'too',\n",
       " 'very',\n",
       " 's',\n",
       " 't',\n",
       " 'can',\n",
       " 'will',\n",
       " 'just',\n",
       " 'don',\n",
       " \"don't\",\n",
       " 'should',\n",
       " \"should've\",\n",
       " 'now',\n",
       " 'd',\n",
       " 'll',\n",
       " 'm',\n",
       " 'o',\n",
       " 're',\n",
       " 've',\n",
       " 'y',\n",
       " 'ain',\n",
       " 'aren',\n",
       " \"aren't\",\n",
       " 'couldn',\n",
       " \"couldn't\",\n",
       " 'didn',\n",
       " \"didn't\",\n",
       " 'doesn',\n",
       " \"doesn't\",\n",
       " 'hadn',\n",
       " \"hadn't\",\n",
       " 'hasn',\n",
       " \"hasn't\",\n",
       " 'haven',\n",
       " \"haven't\",\n",
       " 'isn',\n",
       " \"isn't\",\n",
       " 'ma',\n",
       " 'mightn',\n",
       " \"mightn't\",\n",
       " 'mustn',\n",
       " \"mustn't\",\n",
       " 'needn',\n",
       " \"needn't\",\n",
       " 'shan',\n",
       " \"shan't\",\n",
       " 'shouldn',\n",
       " \"shouldn't\",\n",
       " 'wasn',\n",
       " \"wasn't\",\n",
       " 'weren',\n",
       " \"weren't\",\n",
       " 'won',\n",
       " \"won't\",\n",
       " 'wouldn',\n",
       " \"wouldn't\"]"
      ]
     },
     "execution_count": 5,
     "metadata": {},
     "output_type": "execute_result"
    }
   ],
   "source": [
    "stopwords "
   ]
  },
  {
   "cell_type": "code",
   "execution_count": 6,
   "id": "b0841893",
   "metadata": {},
   "outputs": [
    {
     "data": {
      "text/plain": [
       "\n",
       "I enjoyed hearing you speak at the Martian Writers' Conference last month. Not many New York-based agents take the time to come to Mars to meet the local writers; we really appreciate the ones who do. Since you so ably represented BLUE-EYED VENUSIAN, I hope you will be interested in my book, MY HEART GOES ON TO MARS, a romantic thriller that will appeal to workers in the interstellar travel industry because it is the first novel to portray their difficult-but- glamorous job accurately. Stella Artois (157) is a flight attendant on the brand-new starcruiser Titanic, the largest passenger starcraft ever built. Hardly has she strapped in the wealthy passengers on its monumentally-costly maiden voyage, however, when she hears turmoil from below deck. \"That's funny,\" she thinks, climbing below. \"As on the ship for which my vessel is named, there is no economy class on this trip.\" Taken hostage by a rollicking horde of Edwardian stereotypes, can Stella escape, warn the captain about that space iceberg, and find true love before it's time to serve the warm peanuts to first class? I am uniquely qualified to tell this story, due to my many years as a supervisor for Intergalactic Flights, Inc., my Ph.D. in astrophysics from the University of Guam, and a childhood spent locked in a closet, watching the films of James Cameron on an endless loop. My writing has been published in Martian Mother's Day, Good Cryptkeeping, and Ms. Thank you for your time in reviewing this, and I hope that the enclosed synopsis will pique your interest. I may be reached at the address and phone number above, as well as via e- mail at aspiring@pickme.net. I enclose a SASE for your convenience, and I look forward to hearing from you soon. "
      ]
     },
     "execution_count": 6,
     "metadata": {},
     "output_type": "execute_result"
    }
   ],
   "source": [
    "nlp = spacy.load(\"en_core_web_sm\")\n",
    "doc = nlp(text)\n",
    "doc  "
   ]
  },
  {
   "cell_type": "markdown",
   "id": "73927f0b",
   "metadata": {},
   "source": [
    "- **spacy.load(\"en_core_web_sm\");** English pipeline optimized for CPU. Components: tok2vec, tagger, parser, sender, ner, attribute_ruler, lemmatizer.\n",
    "- **For more information ;** [https://spacy.io/models/en]"
   ]
  },
  {
   "cell_type": "code",
   "execution_count": 7,
   "id": "4f43d84a",
   "metadata": {},
   "outputs": [
    {
     "name": "stdout",
     "output_type": "stream",
     "text": [
      "['\\n', 'I', 'enjoyed', 'hearing', 'you', 'speak', 'at', 'the', 'Martian', 'Writers', \"'\", 'Conference', 'last', 'month', '.', 'Not', 'many', 'New', 'York', '-', 'based', 'agents', 'take', 'the', 'time', 'to', 'come', 'to', 'Mars', 'to', 'meet', 'the', 'local', 'writers', ';', 'we', 'really', 'appreciate', 'the', 'ones', 'who', 'do', '.', 'Since', 'you', 'so', 'ably', 'represented', 'BLUE', '-', 'EYED', 'VENUSIAN', ',', 'I', 'hope', 'you', 'will', 'be', 'interested', 'in', 'my', 'book', ',', 'MY', 'HEART', 'GOES', 'ON', 'TO', 'MARS', ',', 'a', 'romantic', 'thriller', 'that', 'will', 'appeal', 'to', 'workers', 'in', 'the', 'interstellar', 'travel', 'industry', 'because', 'it', 'is', 'the', 'first', 'novel', 'to', 'portray', 'their', 'difficult', '-', 'but-', 'glamorous', 'job', 'accurately', '.', 'Stella', 'Artois', '(', '157', ')', 'is', 'a', 'flight', 'attendant', 'on', 'the', 'brand', '-', 'new', 'starcruiser', 'Titanic', ',', 'the', 'largest', 'passenger', 'starcraft', 'ever', 'built', '.', 'Hardly', 'has', 'she', 'strapped', 'in', 'the', 'wealthy', 'passengers', 'on', 'its', 'monumentally', '-', 'costly', 'maiden', 'voyage', ',', 'however', ',', 'when', 'she', 'hears', 'turmoil', 'from', 'below', 'deck', '.', '\"', 'That', \"'s\", 'funny', ',', '\"', 'she', 'thinks', ',', 'climbing', 'below', '.', '\"', 'As', 'on', 'the', 'ship', 'for', 'which', 'my', 'vessel', 'is', 'named', ',', 'there', 'is', 'no', 'economy', 'class', 'on', 'this', 'trip', '.', '\"', 'Taken', 'hostage', 'by', 'a', 'rollicking', 'horde', 'of', 'Edwardian', 'stereotypes', ',', 'can', 'Stella', 'escape', ',', 'warn', 'the', 'captain', 'about', 'that', 'space', 'iceberg', ',', 'and', 'find', 'true', 'love', 'before', 'it', \"'s\", 'time', 'to', 'serve', 'the', 'warm', 'peanuts', 'to', 'first', 'class', '?', 'I', 'am', 'uniquely', 'qualified', 'to', 'tell', 'this', 'story', ',', 'due', 'to', 'my', 'many', 'years', 'as', 'a', 'supervisor', 'for', 'Intergalactic', 'Flights', ',', 'Inc.', ',', 'my', 'Ph.D.', 'in', 'astrophysics', 'from', 'the', 'University', 'of', 'Guam', ',', 'and', 'a', 'childhood', 'spent', 'locked', 'in', 'a', 'closet', ',', 'watching', 'the', 'films', 'of', 'James', 'Cameron', 'on', 'an', 'endless', 'loop', '.', 'My', 'writing', 'has', 'been', 'published', 'in', 'Martian', 'Mother', \"'s\", 'Day', ',', 'Good', 'Cryptkeeping', ',', 'and', 'Ms.', 'Thank', 'you', 'for', 'your', 'time', 'in', 'reviewing', 'this', ',', 'and', 'I', 'hope', 'that', 'the', 'enclosed', 'synopsis', 'will', 'pique', 'your', 'interest', '.', 'I', 'may', 'be', 'reached', 'at', 'the', 'address', 'and', 'phone', 'number', 'above', ',', 'as', 'well', 'as', 'via', 'e-', 'mail', 'at', 'aspiring@pickme.net', '.', 'I', 'enclose', 'a', 'SASE', 'for', 'your', 'convenience', ',', 'and', 'I', 'look', 'forward', 'to', 'hearing', 'from', 'you', 'soon', '.', '\\n']\n"
     ]
    }
   ],
   "source": [
    "tokens = [token.text for token in doc] \n",
    "print(tokens)"
   ]
  },
  {
   "cell_type": "code",
   "execution_count": 8,
   "id": "1ab0bd98",
   "metadata": {},
   "outputs": [
    {
     "data": {
      "text/plain": [
       "'!\"#$%&\\'()*+,-./:;<=>?@[\\\\]^_`{|}~\\n'"
      ]
     },
     "execution_count": 8,
     "metadata": {},
     "output_type": "execute_result"
    }
   ],
   "source": [
    "punctuation = punctuation + \"\\n\"\n",
    "punctuation   # Separate all the words and punctuation marks in our text"
   ]
  },
  {
   "cell_type": "code",
   "execution_count": 9,
   "id": "1de954b3",
   "metadata": {},
   "outputs": [
    {
     "name": "stdout",
     "output_type": "stream",
     "text": [
      "{'enjoyed': 1, 'hearing': 2, 'speak': 1, 'Martian': 2, 'Writers': 1, 'Conference': 1, 'last': 1, 'month': 1, 'many': 2, 'New': 1, 'York': 1, 'based': 1, 'agents': 1, 'take': 1, 'time': 3, 'come': 1, 'Mars': 1, 'meet': 1, 'local': 1, 'writers': 1, 'really': 1, 'appreciate': 1, 'ones': 1, 'Since': 1, 'ably': 1, 'represented': 1, 'BLUE': 1, 'EYED': 1, 'VENUSIAN': 1, 'hope': 2, 'interested': 1, 'book': 1, 'HEART': 1, 'GOES': 1, 'MARS': 1, 'romantic': 1, 'thriller': 1, 'appeal': 1, 'workers': 1, 'interstellar': 1, 'travel': 1, 'industry': 1, 'first': 2, 'novel': 1, 'portray': 1, 'difficult': 1, 'but-': 1, 'glamorous': 1, 'job': 1, 'accurately': 1, 'Stella': 2, 'Artois': 1, '157': 1, 'flight': 1, 'attendant': 1, 'brand': 1, 'new': 1, 'starcruiser': 1, 'Titanic': 1, 'largest': 1, 'passenger': 1, 'starcraft': 1, 'ever': 1, 'built': 1, 'Hardly': 1, 'strapped': 1, 'wealthy': 1, 'passengers': 1, 'monumentally': 1, 'costly': 1, 'maiden': 1, 'voyage': 1, 'however': 1, 'hears': 1, 'turmoil': 1, 'deck': 1, \"'s\": 3, 'funny': 1, 'thinks': 1, 'climbing': 1, 'ship': 1, 'vessel': 1, 'named': 1, 'economy': 1, 'class': 2, 'trip': 1, 'Taken': 1, 'hostage': 1, 'rollicking': 1, 'horde': 1, 'Edwardian': 1, 'stereotypes': 1, 'escape': 1, 'warn': 1, 'captain': 1, 'space': 1, 'iceberg': 1, 'find': 1, 'true': 1, 'love': 1, 'serve': 1, 'warm': 1, 'peanuts': 1, 'uniquely': 1, 'qualified': 1, 'tell': 1, 'story': 1, 'due': 1, 'years': 1, 'supervisor': 1, 'Intergalactic': 1, 'Flights': 1, 'Inc.': 1, 'Ph.D.': 1, 'astrophysics': 1, 'University': 1, 'Guam': 1, 'childhood': 1, 'spent': 1, 'locked': 1, 'closet': 1, 'watching': 1, 'films': 1, 'James': 1, 'Cameron': 1, 'endless': 1, 'loop': 1, 'writing': 1, 'published': 1, 'Mother': 1, 'Day': 1, 'Good': 1, 'Cryptkeeping': 1, 'Ms.': 1, 'Thank': 1, 'reviewing': 1, 'enclosed': 1, 'synopsis': 1, 'pique': 1, 'interest': 1, 'may': 1, 'reached': 1, 'address': 1, 'phone': 1, 'number': 1, 'well': 1, 'via': 1, 'e-': 1, 'mail': 1, 'aspiring@pickme.net': 1, 'enclose': 1, 'SASE': 1, 'convenience': 1, 'look': 1, 'forward': 1, 'soon': 1}\n"
     ]
    }
   ],
   "source": [
    "word_frequencies = {}\n",
    "for word in doc:\n",
    "    if word.text.lower() not in stopwords: \n",
    "        if word.text.lower() not in punctuation:\n",
    "            if word.text not in word_frequencies.keys():\n",
    "                word_frequencies[word.text] = 1\n",
    "            else:\n",
    "                word_frequencies[word.text] += 1\n",
    "# We construct a for loop, remove punctuation, and label words by frequency.\n",
    "\n",
    "print(word_frequencies)"
   ]
  },
  {
   "cell_type": "code",
   "execution_count": 10,
   "id": "59d02e8b",
   "metadata": {},
   "outputs": [
    {
     "data": {
      "text/plain": [
       "3"
      ]
     },
     "execution_count": 10,
     "metadata": {},
     "output_type": "execute_result"
    }
   ],
   "source": [
    "max_frequency = max(word_frequencies.values())\n",
    "max_frequency #Maximum frequency"
   ]
  },
  {
   "cell_type": "code",
   "execution_count": 11,
   "id": "3b3442d3",
   "metadata": {},
   "outputs": [
    {
     "name": "stdout",
     "output_type": "stream",
     "text": [
      "{'enjoyed': 0.3333333333333333, 'hearing': 0.6666666666666666, 'speak': 0.3333333333333333, 'Martian': 0.6666666666666666, 'Writers': 0.3333333333333333, 'Conference': 0.3333333333333333, 'last': 0.3333333333333333, 'month': 0.3333333333333333, 'many': 0.6666666666666666, 'New': 0.3333333333333333, 'York': 0.3333333333333333, 'based': 0.3333333333333333, 'agents': 0.3333333333333333, 'take': 0.3333333333333333, 'time': 1.0, 'come': 0.3333333333333333, 'Mars': 0.3333333333333333, 'meet': 0.3333333333333333, 'local': 0.3333333333333333, 'writers': 0.3333333333333333, 'really': 0.3333333333333333, 'appreciate': 0.3333333333333333, 'ones': 0.3333333333333333, 'Since': 0.3333333333333333, 'ably': 0.3333333333333333, 'represented': 0.3333333333333333, 'BLUE': 0.3333333333333333, 'EYED': 0.3333333333333333, 'VENUSIAN': 0.3333333333333333, 'hope': 0.6666666666666666, 'interested': 0.3333333333333333, 'book': 0.3333333333333333, 'HEART': 0.3333333333333333, 'GOES': 0.3333333333333333, 'MARS': 0.3333333333333333, 'romantic': 0.3333333333333333, 'thriller': 0.3333333333333333, 'appeal': 0.3333333333333333, 'workers': 0.3333333333333333, 'interstellar': 0.3333333333333333, 'travel': 0.3333333333333333, 'industry': 0.3333333333333333, 'first': 0.6666666666666666, 'novel': 0.3333333333333333, 'portray': 0.3333333333333333, 'difficult': 0.3333333333333333, 'but-': 0.3333333333333333, 'glamorous': 0.3333333333333333, 'job': 0.3333333333333333, 'accurately': 0.3333333333333333, 'Stella': 0.6666666666666666, 'Artois': 0.3333333333333333, '157': 0.3333333333333333, 'flight': 0.3333333333333333, 'attendant': 0.3333333333333333, 'brand': 0.3333333333333333, 'new': 0.3333333333333333, 'starcruiser': 0.3333333333333333, 'Titanic': 0.3333333333333333, 'largest': 0.3333333333333333, 'passenger': 0.3333333333333333, 'starcraft': 0.3333333333333333, 'ever': 0.3333333333333333, 'built': 0.3333333333333333, 'Hardly': 0.3333333333333333, 'strapped': 0.3333333333333333, 'wealthy': 0.3333333333333333, 'passengers': 0.3333333333333333, 'monumentally': 0.3333333333333333, 'costly': 0.3333333333333333, 'maiden': 0.3333333333333333, 'voyage': 0.3333333333333333, 'however': 0.3333333333333333, 'hears': 0.3333333333333333, 'turmoil': 0.3333333333333333, 'deck': 0.3333333333333333, \"'s\": 1.0, 'funny': 0.3333333333333333, 'thinks': 0.3333333333333333, 'climbing': 0.3333333333333333, 'ship': 0.3333333333333333, 'vessel': 0.3333333333333333, 'named': 0.3333333333333333, 'economy': 0.3333333333333333, 'class': 0.6666666666666666, 'trip': 0.3333333333333333, 'Taken': 0.3333333333333333, 'hostage': 0.3333333333333333, 'rollicking': 0.3333333333333333, 'horde': 0.3333333333333333, 'Edwardian': 0.3333333333333333, 'stereotypes': 0.3333333333333333, 'escape': 0.3333333333333333, 'warn': 0.3333333333333333, 'captain': 0.3333333333333333, 'space': 0.3333333333333333, 'iceberg': 0.3333333333333333, 'find': 0.3333333333333333, 'true': 0.3333333333333333, 'love': 0.3333333333333333, 'serve': 0.3333333333333333, 'warm': 0.3333333333333333, 'peanuts': 0.3333333333333333, 'uniquely': 0.3333333333333333, 'qualified': 0.3333333333333333, 'tell': 0.3333333333333333, 'story': 0.3333333333333333, 'due': 0.3333333333333333, 'years': 0.3333333333333333, 'supervisor': 0.3333333333333333, 'Intergalactic': 0.3333333333333333, 'Flights': 0.3333333333333333, 'Inc.': 0.3333333333333333, 'Ph.D.': 0.3333333333333333, 'astrophysics': 0.3333333333333333, 'University': 0.3333333333333333, 'Guam': 0.3333333333333333, 'childhood': 0.3333333333333333, 'spent': 0.3333333333333333, 'locked': 0.3333333333333333, 'closet': 0.3333333333333333, 'watching': 0.3333333333333333, 'films': 0.3333333333333333, 'James': 0.3333333333333333, 'Cameron': 0.3333333333333333, 'endless': 0.3333333333333333, 'loop': 0.3333333333333333, 'writing': 0.3333333333333333, 'published': 0.3333333333333333, 'Mother': 0.3333333333333333, 'Day': 0.3333333333333333, 'Good': 0.3333333333333333, 'Cryptkeeping': 0.3333333333333333, 'Ms.': 0.3333333333333333, 'Thank': 0.3333333333333333, 'reviewing': 0.3333333333333333, 'enclosed': 0.3333333333333333, 'synopsis': 0.3333333333333333, 'pique': 0.3333333333333333, 'interest': 0.3333333333333333, 'may': 0.3333333333333333, 'reached': 0.3333333333333333, 'address': 0.3333333333333333, 'phone': 0.3333333333333333, 'number': 0.3333333333333333, 'well': 0.3333333333333333, 'via': 0.3333333333333333, 'e-': 0.3333333333333333, 'mail': 0.3333333333333333, 'aspiring@pickme.net': 0.3333333333333333, 'enclose': 0.3333333333333333, 'SASE': 0.3333333333333333, 'convenience': 0.3333333333333333, 'look': 0.3333333333333333, 'forward': 0.3333333333333333, 'soon': 0.3333333333333333}\n"
     ]
    }
   ],
   "source": [
    "for word in word_frequencies.keys():\n",
    "    word_frequencies[word] = word_frequencies[word]/max_frequency\n",
    "    \n",
    "print(word_frequencies) # divide the frequency of each word by the maximum frequency\n",
    "#so we have an idea about the distribution ratio of the words"
   ]
  },
  {
   "cell_type": "code",
   "execution_count": 12,
   "id": "f0a66edb",
   "metadata": {},
   "outputs": [
    {
     "name": "stdout",
     "output_type": "stream",
     "text": [
      "[\n",
      "I enjoyed hearing you speak at the Martian Writers' Conference last month., Not many New York-based agents take the time to come to Mars to meet the local writers; we really appreciate the ones who do., Since you so ably represented BLUE-EYED VENUSIAN, I hope you will be interested in my book, MY HEART GOES ON TO MARS, a romantic thriller that will appeal to workers in the interstellar travel industry because it is the first novel to portray their difficult-but- glamorous job accurately., Stella Artois (157) is a flight attendant on the brand-new starcruiser Titanic, the largest passenger starcraft ever built., Hardly has she strapped in the wealthy passengers on its monumentally-costly maiden voyage, however, when she hears turmoil from below deck., \"That's funny,\" she thinks, climbing below., \"As on the ship for which my vessel is named, there is no economy class on this trip.\", Taken hostage by a rollicking horde of Edwardian stereotypes, can Stella escape, warn the captain about that space iceberg, and find true love before it's time to serve the warm peanuts to first class?, I am uniquely qualified to tell this story, due to my many years as a supervisor for Intergalactic Flights, Inc., my Ph.D. in astrophysics from the University of Guam, and a childhood spent locked in a closet, watching the films of James Cameron on an endless loop., My writing has been published in Martian Mother's Day, Good Cryptkeeping, and Ms. Thank you for your time in reviewing this, and I hope that the enclosed synopsis will pique your interest., I may be reached at the address and phone number above, as well as via e- mail at aspiring@pickme.net., I enclose a SASE for your convenience, and I look forward to hearing from you soon., \n",
      "]\n"
     ]
    }
   ],
   "source": [
    "sentence_tokens = [sent for sent in doc.sents]\n",
    "print(sentence_tokens) #Now we split the text according to the sentences (Tokenize)"
   ]
  },
  {
   "cell_type": "code",
   "execution_count": 13,
   "id": "251c88bc",
   "metadata": {},
   "outputs": [
    {
     "data": {
      "text/plain": [
       "{\n",
       " I enjoyed hearing you speak at the Martian Writers' Conference last month.: 2.333333333333333,\n",
       " Not many New York-based agents take the time to come to Mars to meet the local writers; we really appreciate the ones who do.: 5.333333333333332,\n",
       " Since you so ably represented BLUE-EYED VENUSIAN, I hope you will be interested in my book, MY HEART GOES ON TO MARS, a romantic thriller that will appeal to workers in the interstellar travel industry because it is the first novel to portray their difficult-but- glamorous job accurately.: 7.333333333333331,\n",
       " Stella Artois (157) is a flight attendant on the brand-new starcruiser Titanic, the largest passenger starcraft ever built.: 3.666666666666667,\n",
       " Hardly has she strapped in the wealthy passengers on its monumentally-costly maiden voyage, however, when she hears turmoil from below deck.: 3.666666666666667,\n",
       " \"That's funny,\" she thinks, climbing below.: 1.9999999999999998,\n",
       " \"As on the ship for which my vessel is named, there is no economy class on this trip.\": 2.3333333333333335,\n",
       " Taken hostage by a rollicking horde of Edwardian stereotypes, can Stella escape, warn the captain about that space iceberg, and find true love before it's time to serve the warm peanuts to first class?: 8.333333333333332,\n",
       " I am uniquely qualified to tell this story, due to my many years as a supervisor for Intergalactic Flights, Inc., my Ph.D. in astrophysics from the University of Guam, and a childhood spent locked in a closet, watching the films of James Cameron on an endless loop.: 5.999999999999998,\n",
       " My writing has been published in Martian Mother's Day, Good Cryptkeeping, and Ms. Thank you for your time in reviewing this, and I hope that the enclosed synopsis will pique your interest.: 4.999999999999999,\n",
       " I may be reached at the address and phone number above, as well as via e- mail at aspiring@pickme.net.: 3.3333333333333335,\n",
       " I enclose a SASE for your convenience, and I look forward to hearing from you soon.: 2.3333333333333335}"
      ]
     },
     "execution_count": 13,
     "metadata": {},
     "output_type": "execute_result"
    }
   ],
   "source": [
    "sentence_scores = {}\n",
    "for sent in sentence_tokens:\n",
    "    for word in sent:\n",
    "        if word.text.lower() in word_frequencies.keys():\n",
    "            if sent not in sentence_scores.keys():\n",
    "                sentence_scores[sent] = word_frequencies[word.text.lower()]\n",
    "            else:\n",
    "                sentence_scores[sent] += word_frequencies[word.text.lower()]\n",
    "                \n",
    "sentence_scores  \n",
    "# Apply the same process to sentences as we do to words and find their frequency."
   ]
  },
  {
   "cell_type": "code",
   "execution_count": 14,
   "id": "568f3ca0",
   "metadata": {},
   "outputs": [
    {
     "data": {
      "text/plain": [
       "6"
      ]
     },
     "execution_count": 14,
     "metadata": {},
     "output_type": "execute_result"
    }
   ],
   "source": [
    "select_length = int(len(sentence_tokens)*0.5)\n",
    "select_length   #Here we can decide the length of the text."
   ]
  },
  {
   "cell_type": "code",
   "execution_count": 15,
   "id": "9b7f2e76",
   "metadata": {},
   "outputs": [
    {
     "data": {
      "text/plain": [
       "[Taken hostage by a rollicking horde of Edwardian stereotypes, can Stella escape, warn the captain about that space iceberg, and find true love before it's time to serve the warm peanuts to first class?,\n",
       " Since you so ably represented BLUE-EYED VENUSIAN, I hope you will be interested in my book, MY HEART GOES ON TO MARS, a romantic thriller that will appeal to workers in the interstellar travel industry because it is the first novel to portray their difficult-but- glamorous job accurately.,\n",
       " I am uniquely qualified to tell this story, due to my many years as a supervisor for Intergalactic Flights, Inc., my Ph.D. in astrophysics from the University of Guam, and a childhood spent locked in a closet, watching the films of James Cameron on an endless loop.,\n",
       " Not many New York-based agents take the time to come to Mars to meet the local writers; we really appreciate the ones who do.,\n",
       " My writing has been published in Martian Mother's Day, Good Cryptkeeping, and Ms. Thank you for your time in reviewing this, and I hope that the enclosed synopsis will pique your interest.,\n",
       " Stella Artois (157) is a flight attendant on the brand-new starcruiser Titanic, the largest passenger starcraft ever built.]"
      ]
     },
     "execution_count": 15,
     "metadata": {},
     "output_type": "execute_result"
    }
   ],
   "source": [
    "summary = nlargest(select_length, sentence_scores, key = sentence_scores.get)\n",
    "#Combine sentences with the criteria we set here\n",
    "summary"
   ]
  },
  {
   "cell_type": "code",
   "execution_count": 16,
   "id": "74de195b",
   "metadata": {},
   "outputs": [
    {
     "data": {
      "text/plain": [
       "[\"Taken hostage by a rollicking horde of Edwardian stereotypes, can Stella escape, warn the captain about that space iceberg, and find true love before it's time to serve the warm peanuts to first class?\",\n",
       " 'Since you so ably represented BLUE-EYED VENUSIAN, I hope you will be interested in my book, MY HEART GOES ON TO MARS, a romantic thriller that will appeal to workers in the interstellar travel industry because it is the first novel to portray their difficult-but- glamorous job accurately.',\n",
       " 'I am uniquely qualified to tell this story, due to my many years as a supervisor for Intergalactic Flights, Inc., my Ph.D. in astrophysics from the University of Guam, and a childhood spent locked in a closet, watching the films of James Cameron on an endless loop.',\n",
       " 'Not many New York-based agents take the time to come to Mars to meet the local writers; we really appreciate the ones who do.',\n",
       " \"My writing has been published in Martian Mother's Day, Good Cryptkeeping, and Ms. Thank you for your time in reviewing this, and I hope that the enclosed synopsis will pique your interest.\",\n",
       " 'Stella Artois (157) is a flight attendant on the brand-new starcruiser Titanic, the largest passenger starcraft ever built.']"
      ]
     },
     "execution_count": 16,
     "metadata": {},
     "output_type": "execute_result"
    }
   ],
   "source": [
    "final_summary = [word.text for word in summary]\n",
    "final_summary"
   ]
  },
  {
   "cell_type": "code",
   "execution_count": 17,
   "id": "51e7f15a",
   "metadata": {},
   "outputs": [
    {
     "data": {
      "text/plain": [
       "\"Taken hostage by a rollicking horde of Edwardian stereotypes, can Stella escape, warn the captain about that space iceberg, and find true love before it's time to serve the warm peanuts to first class? Since you so ably represented BLUE-EYED VENUSIAN, I hope you will be interested in my book, MY HEART GOES ON TO MARS, a romantic thriller that will appeal to workers in the interstellar travel industry because it is the first novel to portray their difficult-but- glamorous job accurately. I am uniquely qualified to tell this story, due to my many years as a supervisor for Intergalactic Flights, Inc., my Ph.D. in astrophysics from the University of Guam, and a childhood spent locked in a closet, watching the films of James Cameron on an endless loop. Not many New York-based agents take the time to come to Mars to meet the local writers; we really appreciate the ones who do. My writing has been published in Martian Mother's Day, Good Cryptkeeping, and Ms. Thank you for your time in reviewing this, and I hope that the enclosed synopsis will pique your interest. Stella Artois (157) is a flight attendant on the brand-new starcruiser Titanic, the largest passenger starcraft ever built.\""
      ]
     },
     "execution_count": 17,
     "metadata": {},
     "output_type": "execute_result"
    }
   ],
   "source": [
    "summary = \" \".join(final_summary)\n",
    "summary"
   ]
  },
  {
   "cell_type": "code",
   "execution_count": 18,
   "id": "d4845999",
   "metadata": {},
   "outputs": [
    {
     "name": "stdout",
     "output_type": "stream",
     "text": [
      "\n",
      "I enjoyed hearing you speak at the Martian Writers' Conference last month. Not many New York-based agents take the time to come to Mars to meet the local writers; we really appreciate the ones who do. Since you so ably represented BLUE-EYED VENUSIAN, I hope you will be interested in my book, MY HEART GOES ON TO MARS, a romantic thriller that will appeal to workers in the interstellar travel industry because it is the first novel to portray their difficult-but- glamorous job accurately. Stella Artois (157) is a flight attendant on the brand-new starcruiser Titanic, the largest passenger starcraft ever built. Hardly has she strapped in the wealthy passengers on its monumentally-costly maiden voyage, however, when she hears turmoil from below deck. \"That's funny,\" she thinks, climbing below. \"As on the ship for which my vessel is named, there is no economy class on this trip.\" Taken hostage by a rollicking horde of Edwardian stereotypes, can Stella escape, warn the captain about that space iceberg, and find true love before it's time to serve the warm peanuts to first class? I am uniquely qualified to tell this story, due to my many years as a supervisor for Intergalactic Flights, Inc., my Ph.D. in astrophysics from the University of Guam, and a childhood spent locked in a closet, watching the films of James Cameron on an endless loop. My writing has been published in Martian Mother's Day, Good Cryptkeeping, and Ms. Thank you for your time in reviewing this, and I hope that the enclosed synopsis will pique your interest. I may be reached at the address and phone number above, as well as via e- mail at aspiring@pickme.net. I enclose a SASE for your convenience, and I look forward to hearing from you soon. \n",
      "\n"
     ]
    }
   ],
   "source": [
    "print(text)"
   ]
  },
  {
   "cell_type": "code",
   "execution_count": 19,
   "id": "6b82d5a3",
   "metadata": {},
   "outputs": [
    {
     "name": "stdout",
     "output_type": "stream",
     "text": [
      "Taken hostage by a rollicking horde of Edwardian stereotypes, can Stella escape, warn the captain about that space iceberg, and find true love before it's time to serve the warm peanuts to first class? Since you so ably represented BLUE-EYED VENUSIAN, I hope you will be interested in my book, MY HEART GOES ON TO MARS, a romantic thriller that will appeal to workers in the interstellar travel industry because it is the first novel to portray their difficult-but- glamorous job accurately. I am uniquely qualified to tell this story, due to my many years as a supervisor for Intergalactic Flights, Inc., my Ph.D. in astrophysics from the University of Guam, and a childhood spent locked in a closet, watching the films of James Cameron on an endless loop. Not many New York-based agents take the time to come to Mars to meet the local writers; we really appreciate the ones who do. My writing has been published in Martian Mother's Day, Good Cryptkeeping, and Ms. Thank you for your time in reviewing this, and I hope that the enclosed synopsis will pique your interest. Stella Artois (157) is a flight attendant on the brand-new starcruiser Titanic, the largest passenger starcraft ever built.\n"
     ]
    }
   ],
   "source": [
    "print(summary)"
   ]
  },
  {
   "cell_type": "code",
   "execution_count": null,
   "id": "bde1fd28",
   "metadata": {},
   "outputs": [],
   "source": []
  }
 ],
 "metadata": {
  "kernelspec": {
   "display_name": "python37",
   "language": "python",
   "name": "python37"
  },
  "language_info": {
   "codemirror_mode": {
    "name": "ipython",
    "version": 3
   },
   "file_extension": ".py",
   "mimetype": "text/x-python",
   "name": "python",
   "nbconvert_exporter": "python",
   "pygments_lexer": "ipython3",
   "version": "3.9.7"
  }
 },
 "nbformat": 4,
 "nbformat_minor": 5
}
