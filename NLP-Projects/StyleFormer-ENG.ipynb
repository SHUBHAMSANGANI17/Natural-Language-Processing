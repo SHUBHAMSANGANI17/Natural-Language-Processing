{
 "cells": [
  {
   "cell_type": "markdown",
   "metadata": {
    "id": "LpI3hZvPTbTJ"
   },
   "source": [
    "# **STYLE FORMER**\n",
    "\n",
    "*   Our aim is to turn formal sentences into daily sentences and daily sentences into formal sentences.\n",
    "\n"
   ]
  },
  {
   "cell_type": "code",
   "execution_count": null,
   "metadata": {
    "colab": {
     "base_uri": "https://localhost:8080/"
    },
    "id": "5RO8dAbDOGoR",
    "outputId": "532ec5f0-b4d6-4c1a-a766-b51b5c32cfbd"
   },
   "outputs": [],
   "source": [
    "!pip install gradio\n",
    "!pip install anyio\n",
    "!pip install nltk\n",
    "!pip install wrapt"
   ]
  },
  {
   "cell_type": "code",
   "execution_count": null,
   "metadata": {
    "colab": {
     "base_uri": "https://localhost:8080/"
    },
    "id": "tWdhQ217OMG7",
    "outputId": "5481aacd-a80a-40b8-a042-b17c37fc3591"
   },
   "outputs": [],
   "source": [
    "import nltk\n",
    "nltk.download('punkt')\n",
    "from styleformer import Styleformer\n",
    "from nltk.tokenize import sent_tokenize, word_tokenize\n",
    "import gradio as gr"
   ]
  },
  {
   "cell_type": "code",
   "execution_count": 3,
   "metadata": {
    "colab": {
     "base_uri": "https://localhost:8080/"
    },
    "id": "gbzW3d9dOPWD",
    "outputId": "dee0414e-6eb3-4cf0-f37a-1b183a05a004"
   },
   "outputs": [
    {
     "name": "stdout",
     "output_type": "stream",
     "text": [
      "Casual to Formal model loaded...\n",
      "Formal to Casual model loaded...\n"
     ]
    }
   ],
   "source": [
    "styleformer_casual_to_formal = Styleformer(style=0)\n",
    "styleformer_formal_to_casual = Styleformer(style=1)\n",
    "#Our Models."
   ]
  },
  {
   "cell_type": "markdown",
   "metadata": {
    "id": "nB8mZTh7feqB"
   },
   "source": [
    "# CASUAL TO FORMAL"
   ]
  },
  {
   "cell_type": "code",
   "execution_count": 10,
   "metadata": {
    "colab": {
     "base_uri": "https://localhost:8080/"
    },
    "id": "6R5qO0Rub34V",
    "outputId": "0a13975c-da6a-4ed9-b946-2488e7cfc14a"
   },
   "outputs": [
    {
     "name": "stdout",
     "output_type": "stream",
     "text": [
      "Hey everyone, what are you doing?\n"
     ]
    }
   ],
   "source": [
    "raw_text = \"hi what the fuck are you doing you all \"\n",
    "\n",
    "text_tokenize = sent_tokenize(raw_text) #Seperate the text according to sentences\n",
    "\n",
    "processed_text = [] #Create a variable to implement processed.text\n",
    "\n",
    "for i in range(0, len(text_tokenize)):\n",
    "  modeled_text = styleformer_casual_to_formal.transfer(text_tokenize[i]) # Create a for loop and implement the model to per sentences.\n",
    "  processed_text.append(modeled_text)\n",
    "\n",
    "ripe_text= \" \".join(map(str, processed_text))  #Merge all seperated sentences in ripe text.\n",
    "print(ripe_text)"
   ]
  },
  {
   "cell_type": "markdown",
   "metadata": {
    "id": "j8JZwLSxf1Ag"
   },
   "source": [
    "# FORMAL TO CASUAL"
   ]
  },
  {
   "cell_type": "code",
   "execution_count": 12,
   "metadata": {
    "colab": {
     "base_uri": "https://localhost:8080/"
    },
    "id": "dZrtPwD3d3Ok",
    "outputId": "54478d33-8d3e-4d23-d09d-9113cd9cd9ae"
   },
   "outputs": [
    {
     "name": "stdout",
     "output_type": "stream",
     "text": [
      "hi,what's up? hang around and watch the games then maybe grab some food.\n"
     ]
    }
   ],
   "source": [
    "# Thıs part process same the above parts. Only model was change.\n",
    "raw_text = \"Hello, what is happening? We should spend time together, watch the Olympics, and then maybe go grab some food.\"\n",
    "\n",
    "text_tokenize = sent_tokenize(raw_text)\n",
    "\n",
    "processed_text = []\n",
    "\n",
    "for i in range(0, len(text_tokenize)):\n",
    "  modeled_text = styleformer_formal_to_casual.transfer(text_tokenize[i])\n",
    "  processed_text.append(modeled_text)\n",
    "\n",
    "ripe_text= \" \".join(map(str, processed_text)) \n",
    "print(ripe_text)"
   ]
  },
  {
   "cell_type": "markdown",
   "metadata": {
    "id": "ABE7zUc7n9co"
   },
   "source": [
    "# STYLE FORMER TEST (CASUAL TO FORMAL)\n"
   ]
  },
  {
   "cell_type": "code",
   "execution_count": 15,
   "metadata": {
    "colab": {
     "base_uri": "https://localhost:8080/"
    },
    "id": "tsKl6XPmoJx7",
    "outputId": "f07264ad-eb03-430a-c872-91f489f16a0e"
   },
   "outputs": [
    {
     "name": "stdout",
     "output_type": "stream",
     "text": [
      "Running on local URL:  http://127.0.0.1:7866/\n",
      "\n",
      "To create a public link, set `share=True` in `launch()`.\n"
     ]
    },
    {
     "data": {
      "text/html": [
       "\n",
       "        <iframe\n",
       "            width=\"900\"\n",
       "            height=\"500\"\n",
       "            src=\"http://127.0.0.1:7866/\"\n",
       "            frameborder=\"0\"\n",
       "            allowfullscreen\n",
       "            \n",
       "        ></iframe>\n",
       "        "
      ],
      "text/plain": [
       "<IPython.lib.display.IFrame at 0x2368c6573a0>"
      ]
     },
     "metadata": {},
     "output_type": "display_data"
    },
    {
     "data": {
      "text/plain": [
       "(<fastapi.applications.FastAPI at 0x236035b14f0>,\n",
       " 'http://127.0.0.1:7866/',\n",
       " None)"
      ]
     },
     "execution_count": 15,
     "metadata": {},
     "output_type": "execute_result"
    }
   ],
   "source": [
    "# We make better visualization of study with gradio\n",
    "def casual2formal(sentence):\n",
    "    text_tokenize = sent_tokenize(sentence)\n",
    "    processed_text = []\n",
    "    \n",
    "    for i in range(0, len(text_tokenize)):\n",
    "        modeled_text = styleformer_casual_to_formal.transfer(text_tokenize[i])\n",
    "        processed_text.append(modeled_text)\n",
    "        \n",
    "    ripe_text= \" \".join(map(str, processed_text))\n",
    "    return ripe_text\n",
    "\n",
    "app_inputs = gr.inputs.Textbox(lines=2, placeholder = \"Please, enter sentence here...\")\n",
    "\n",
    "interface=gr.Interface(fn = casual2formal,\n",
    "                      inputs = app_inputs,\n",
    "                      outputs = \"text\",\n",
    "                       theme = \"dark\",\n",
    "                      title = \"CASUAL TO FORMAL\",\n",
    "                      article = \"This study created by MIRZA OZER.\")\n",
    "\n",
    "interface.launch()"
   ]
  },
  {
   "cell_type": "markdown",
   "metadata": {
    "id": "MfJsaBoBra66"
   },
   "source": [
    "# STYLE FORMER TEST (FORMAL TO CASUAL)"
   ]
  },
  {
   "cell_type": "code",
   "execution_count": 14,
   "metadata": {
    "colab": {
     "base_uri": "https://localhost:8080/"
    },
    "id": "jEKwOUwMrf8u",
    "outputId": "34f19f20-4860-4aa0-9ba5-a92a00270d65"
   },
   "outputs": [
    {
     "name": "stdout",
     "output_type": "stream",
     "text": [
      "Running on local URL:  http://127.0.0.1:7865/\n",
      "\n",
      "To create a public link, set `share=True` in `launch()`.\n"
     ]
    },
    {
     "data": {
      "text/html": [
       "\n",
       "        <iframe\n",
       "            width=\"900\"\n",
       "            height=\"500\"\n",
       "            src=\"http://127.0.0.1:7865/\"\n",
       "            frameborder=\"0\"\n",
       "            allowfullscreen\n",
       "            \n",
       "        ></iframe>\n",
       "        "
      ],
      "text/plain": [
       "<IPython.lib.display.IFrame at 0x2368b663df0>"
      ]
     },
     "metadata": {},
     "output_type": "display_data"
    },
    {
     "data": {
      "text/plain": [
       "(<fastapi.applications.FastAPI at 0x236035b14f0>,\n",
       " 'http://127.0.0.1:7865/',\n",
       " None)"
      ]
     },
     "execution_count": 14,
     "metadata": {},
     "output_type": "execute_result"
    }
   ],
   "source": [
    "def formal2casual(sentence1):\n",
    "    text_tokenize = sent_tokenize(sentence1)\n",
    "    processed_text = []\n",
    "    \n",
    "    for i in range(0, len(text_tokenize)):\n",
    "        modeled_text = styleformer_formal_to_casual.transfer(text_tokenize[i])\n",
    "        processed_text.append(modeled_text)\n",
    "        \n",
    "    ripe_text= \" \".join(map(str, processed_text))\n",
    "    return ripe_text\n",
    "\n",
    "app_inputs = gr.inputs.Textbox(lines=2, placeholder = \"Please, enter sentence here...\")\n",
    "\n",
    "interface=gr.Interface(fn = casual2formal,\n",
    "                      inputs = app_inputs,\n",
    "                      outputs = \"text\",\n",
    "                       theme = \"dark\",\n",
    "                       title = \"FORMAL TO CASUAL\",\n",
    "                      article = \"This study created by MIRZA OZER.\")\n",
    "\n",
    "interface.launch()"
   ]
  },
  {
   "cell_type": "code",
   "execution_count": null,
   "metadata": {},
   "outputs": [],
   "source": []
  }
 ],
 "metadata": {
  "colab": {
   "collapsed_sections": [],
   "name": "StyleFormerENG",
   "provenance": []
  },
  "kernelspec": {
   "display_name": "python37",
   "language": "python",
   "name": "python37"
  },
  "language_info": {
   "codemirror_mode": {
    "name": "ipython",
    "version": 3
   },
   "file_extension": ".py",
   "mimetype": "text/x-python",
   "name": "python",
   "nbconvert_exporter": "python",
   "pygments_lexer": "ipython3",
   "version": "3.9.7"
  }
 },
 "nbformat": 4,
 "nbformat_minor": 1
}
